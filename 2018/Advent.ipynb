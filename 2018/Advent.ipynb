{
 "cells": [
  {
   "cell_type": "markdown",
   "metadata": {},
   "source": [
    "http://adventofcode.com/"
   ]
  },
  {
   "cell_type": "markdown",
   "metadata": {},
   "source": [
    "# Day 11"
   ]
  },
  {
   "cell_type": "code",
   "execution_count": 297,
   "metadata": {},
   "outputs": [],
   "source": [
    "import numpy as np\n",
    "\n",
    "my_id = 9798\n",
    "\n",
    "def get_level(x, y, serial=my_id):\n",
    "    rack = x + 10\n",
    "    return ((rack * y + serial) * rack % 1000) // 100 - 5\n",
    "\n",
    "def gen_grid(nx, ny, serial=my_id):\n",
    "    x = np.arange(1, nx + 1)\n",
    "    y = np.arange(1, ny + 1)[:, None]\n",
    "    return get_level(x, y, serial)\n",
    "\n",
    "#def find_"
   ]
  },
  {
   "cell_type": "code",
   "execution_count": 298,
   "metadata": {},
   "outputs": [],
   "source": [
    "assert get_level(3, 5, 8) == 4\n",
    "assert get_level(122, 79, 57) == -5\n",
    "assert get_level(217, 196, 39) == 0\n",
    "assert get_level(101, 153, 71) == 4"
   ]
  },
  {
   "cell_type": "code",
   "execution_count": 327,
   "metadata": {},
   "outputs": [],
   "source": [
    "def find_max(grid, size=3):\n",
    "    max_loc = (0, 0)\n",
    "    max_sum = -2**32\n",
    "    for i in range(grid.shape[0] - size + 1):\n",
    "        for j in range(grid.shape[1] - size + 1):\n",
    "            total = np.sum(grid[i:i+size, j:j+size])\n",
    "            if total > max_sum:\n",
    "                max_sum = total\n",
    "                max_loc = (j + 1, i + 1)\n",
    "    return max_loc, max_sum\n",
    "\n",
    "def find_max_box(grid, cap=30):\n",
    "    max_loc = (0, 0)\n",
    "    max_sum = -2**32\n",
    "    max_size = 0\n",
    "    for size in range(1, cap):\n",
    "        loc, total = find_max(grid, size)\n",
    "        if total > max_sum:\n",
    "            max_loc = loc\n",
    "            max_size = size\n",
    "            max_sum = total\n",
    "    return max_loc, max_size, max_sum"
   ]
  },
  {
   "cell_type": "code",
   "execution_count": 328,
   "metadata": {},
   "outputs": [],
   "source": [
    "assert find_max(gen_grid(300, 300, 18))[0] == (33, 45)\n",
    "assert find_max(gen_grid(300, 300, 42))[0] == (21, 61)"
   ]
  },
  {
   "cell_type": "code",
   "execution_count": 329,
   "metadata": {},
   "outputs": [
    {
     "data": {
      "text/plain": [
       "((90, 269), 16, 113)"
      ]
     },
     "execution_count": 329,
     "metadata": {},
     "output_type": "execute_result"
    }
   ],
   "source": [
    "find_max_box(gen_grid(300, 300, 18))"
   ]
  },
  {
   "cell_type": "code",
   "execution_count": 331,
   "metadata": {},
   "outputs": [
    {
     "data": {
      "text/plain": [
       "((44, 37), 29)"
      ]
     },
     "execution_count": 331,
     "metadata": {},
     "output_type": "execute_result"
    }
   ],
   "source": [
    "find_max(gen_grid(300, 300, 9798))"
   ]
  },
  {
   "cell_type": "code",
   "execution_count": 332,
   "metadata": {},
   "outputs": [
    {
     "data": {
      "text/plain": [
       "((235, 87), 13, 121)"
      ]
     },
     "execution_count": 332,
     "metadata": {},
     "output_type": "execute_result"
    }
   ],
   "source": [
    "find_max_box(gen_grid(300, 300, 9798))"
   ]
  },
  {
   "cell_type": "markdown",
   "metadata": {},
   "source": [
    "# Day 12"
   ]
  },
  {
   "cell_type": "code",
   "execution_count": 84,
   "metadata": {},
   "outputs": [],
   "source": [
    "def parse(f):\n",
    "    init = f.readline().split(':')[1].strip()\n",
    "    f.readline()\n",
    "    rules = dict()\n",
    "    for line in f:\n",
    "        pattern, res = line.strip().split(' => ')\n",
    "        if res == '#':\n",
    "            rules[pattern] = res\n",
    "    return init, rules"
   ]
  },
  {
   "cell_type": "code",
   "execution_count": 85,
   "metadata": {},
   "outputs": [],
   "source": [
    "from io import StringIO\n",
    "f = StringIO('''initial state: #..#.#..##......###...###\n",
    "\n",
    "...## => #\n",
    "..#.. => #\n",
    ".#... => #\n",
    ".#.#. => #\n",
    ".#.## => #\n",
    ".##.. => #\n",
    ".#### => #\n",
    "#.#.# => #\n",
    "#.### => #\n",
    "##.#. => #\n",
    "##.## => #\n",
    "###.. => #\n",
    "###.# => #\n",
    "####. => #''')"
   ]
  },
  {
   "cell_type": "code",
   "execution_count": 86,
   "metadata": {},
   "outputs": [],
   "source": [
    "init, rules = parse(f)"
   ]
  },
  {
   "cell_type": "code",
   "execution_count": 87,
   "metadata": {},
   "outputs": [],
   "source": [
    "def follow_rules(init, rules, generations=20):\n",
    "    prepended = appended = 0\n",
    "    buf = init\n",
    "    #print(buf)\n",
    "    for _ in range(generations):\n",
    "        parts = []\n",
    "        if '....' + buf[0] in rules:\n",
    "            prepended += 1\n",
    "            parts.append('#')\n",
    "        if '...' + buf[:2] in rules:\n",
    "            prepended += 1\n",
    "            parts.append('#')\n",
    "        for i in range(len(buf)):\n",
    "            if i < 2:\n",
    "                group = (2 - i) * '.' + buf[:i+3]\n",
    "            elif i >= len(buf) - 2:\n",
    "                group = buf[i-2:] + ('..' if i == len(buf) - 1 else '.')\n",
    "            else:\n",
    "                group = buf[i-2:i+3]\n",
    "\n",
    "            parts.append(rules.get(group, '.'))\n",
    "    #        print(group, '=>', parts[-1])\n",
    "        if buf[-2:] + '...' in rules:\n",
    "            appended += 1\n",
    "            parts.append('#')\n",
    "        if buf[-1] + '....' in rules:\n",
    "            appended += 1\n",
    "            parts.append('#')\n",
    "        buf = ''.join(parts)\n",
    "    #    print(buf)    \n",
    "    return prepended, buf"
   ]
  },
  {
   "cell_type": "code",
   "execution_count": 88,
   "metadata": {},
   "outputs": [],
   "source": [
    "def score(line, prepended):\n",
    "    return sum(i for i,m in zip(range(-prepended, len(line)), line) if m=='#')"
   ]
  },
  {
   "cell_type": "code",
   "execution_count": 89,
   "metadata": {},
   "outputs": [],
   "source": [
    "pre, line = follow_rules(init, rules)\n",
    "assert score(line, pre) == 325"
   ]
  },
  {
   "cell_type": "code",
   "execution_count": 93,
   "metadata": {},
   "outputs": [
    {
     "name": "stdout",
     "output_type": "stream",
     "text": [
      "Part 1: 3421\n",
      "Part 2: 52195\n"
     ]
    }
   ],
   "source": [
    "with open('input12.txt', 'rt') as f:\n",
    "    init, rules = parse(f)\n",
    "    pre, line = follow_rules(init, rules)\n",
    "    print('Part 1:', score(line, pre))\n",
    "    pre, line = follow_rules(init, rules, 1000)\n",
    "    print('Part 2:', score(line, pre))"
   ]
  },
  {
   "cell_type": "code",
   "execution_count": 99,
   "metadata": {},
   "outputs": [
    {
     "name": "stdout",
     "output_type": "stream",
     "text": [
      "52195\n",
      "103195\n",
      "154195\n",
      "205195\n",
      "256195\n"
     ]
    }
   ],
   "source": [
    "for i in range(5):\n",
    "    pre, line = follow_rules(init, rules, 1000 * (i + 1))\n",
    "    print(score(line, pre))"
   ]
  },
  {
   "cell_type": "code",
   "execution_count": 101,
   "metadata": {},
   "outputs": [
    {
     "data": {
      "text/plain": [
       "2550000001195"
      ]
     },
     "execution_count": 101,
     "metadata": {},
     "output_type": "execute_result"
    }
   ],
   "source": [
    "51000 * (50000000 - 1) + 52195"
   ]
  },
  {
   "cell_type": "markdown",
   "metadata": {},
   "source": [
    "# Day 13"
   ]
  },
  {
   "cell_type": "code",
   "execution_count": 168,
   "metadata": {},
   "outputs": [],
   "source": [
    "class Cart:\n",
    "    directions = {'v': (0, 1), '^': (0, -1), '<': (-1, 0), '>': (1, 0)}\n",
    "    def __init__(self, x, y, direction):\n",
    "        self.x = x\n",
    "        self.y = y\n",
    "        self.dx, self.dy = self.directions[direction]\n",
    "        self.nextturn = 0\n",
    "    \n",
    "    def move(self, network):\n",
    "        self.x += self.dx\n",
    "        self.y += self.dy\n",
    "        path = network[self.y][self.x]\n",
    "        if path in ('/', '\\\\'):\n",
    "            self.turn(path)\n",
    "        elif path == '+':\n",
    "            self.handle_intersection()\n",
    "\n",
    "    def handle_intersection(self):\n",
    "        if self.nextturn == 0: # Left\n",
    "            self.dx, self.dy = self.dy, -self.dx\n",
    "        elif self.nextturn == 2: # Right\n",
    "            self.dx, self.dy = -self.dy, self.dx\n",
    "        # Otherwise go straight\n",
    "\n",
    "        self.nextturn = (self.nextturn + 1) % 3\n",
    "\n",
    "    def turn(self, path):\n",
    "        if path == '/':\n",
    "            self.dx, self.dy = -self.dy, -self.dx\n",
    "        elif path == '\\\\':\n",
    "            self.dx, self.dy = self.dy, self.dx\n",
    "\n",
    "    def __lt__(self, other):\n",
    "        return (self.y, self.x) < (other.y, other.x)\n",
    "    \n",
    "    def __eq__(self, other):\n",
    "        return self.x == other.x and self.y == other.y\n",
    "    \n",
    "    def __hash__(self):\n",
    "        return hash((self.x, self.y))\n",
    "    \n",
    "    def __str__(self):\n",
    "        return ('X: {0.x:3d} Y: {0.y:3d} dx: {0.dx:2d} dy: {0.dy:2d}'.format(self))\n",
    "    \n",
    "    __repr__ = __str__\n",
    "\n",
    "\n",
    "def run(network, carts):\n",
    "    tick = 0\n",
    "    while True:\n",
    "        tick += 1\n",
    "        todo = sorted(carts)[::-1]\n",
    "        done = set()\n",
    "#         print(tick)\n",
    "        while todo:\n",
    "            cart = todo.pop()\n",
    "#             print(cart)\n",
    "            cart.move(network)\n",
    "            if cart in (set(todo)|done):\n",
    "                print(tick)\n",
    "                return cart.x, cart.y\n",
    "            done.add(cart)\n",
    "\n",
    "def crash_all(network, carts):\n",
    "    tick = 0\n",
    "    done = carts\n",
    "    while len(done) > 1:\n",
    "        tick += 1\n",
    "        todo = sorted(done)[::-1]\n",
    "        done = set()\n",
    "#         print(tick)\n",
    "        while todo:\n",
    "            cart = todo.pop()\n",
    "            #print(cart)\n",
    "            cart.move(network)\n",
    "            if cart in (set(todo) | done):\n",
    "                print('Crashed:', cart)\n",
    "                if cart in done:\n",
    "                    done.remove(cart)\n",
    "                if cart in todo:\n",
    "                    todo.remove(cart)\n",
    "            else:\n",
    "                done.add(cart)\n",
    "#         print(len(done))\n",
    "    return list(done)[0].x, list(done)[0].y"
   ]
  },
  {
   "cell_type": "code",
   "execution_count": 169,
   "metadata": {},
   "outputs": [],
   "source": [
    "def parse(f):\n",
    "    carts = []\n",
    "    network = list(f)\n",
    "    for y, row in enumerate(network):\n",
    "        for x, path in enumerate(row):\n",
    "            if path in Cart.directions:\n",
    "                carts.append(Cart(x, y, path))\n",
    "    return network, carts"
   ]
  },
  {
   "cell_type": "code",
   "execution_count": 170,
   "metadata": {},
   "outputs": [],
   "source": [
    "from io import StringIO\n",
    "f = StringIO(r'''/->-\\        \n",
    "|   |  /----\\\n",
    "| /-+--+-\\  |\n",
    "| | |  | v  |\n",
    "\\-+-/  \\-+--/\n",
    "  \\------/   \n",
    "''')\n",
    "network, carts = parse(f)"
   ]
  },
  {
   "cell_type": "code",
   "execution_count": 171,
   "metadata": {},
   "outputs": [
    {
     "name": "stdout",
     "output_type": "stream",
     "text": [
      "14\n"
     ]
    }
   ],
   "source": [
    "crash = run(network, carts)\n",
    "assert crash == (7, 3)"
   ]
  },
  {
   "cell_type": "code",
   "execution_count": 172,
   "metadata": {},
   "outputs": [
    {
     "name": "stdout",
     "output_type": "stream",
     "text": [
      "Crashed: X:   2 Y:   0 dx: -1 dy:  0\n",
      "Crashed: X:   2 Y:   4 dx:  0 dy:  1\n",
      "Crashed: X:   6 Y:   4 dx:  0 dy: -1\n",
      "Crashed: X:   2 Y:   4 dx: -1 dy:  0\n"
     ]
    }
   ],
   "source": [
    "f2 = StringIO(r'''/>-<\\  \n",
    "|   |  \n",
    "| /<+-\\\n",
    "| | | v\n",
    "\\>+</ |\n",
    "  |   ^\n",
    "  \\<->/\n",
    "''')\n",
    "network, carts = parse(f2)\n",
    "assert crash_all(network, carts) == (6, 4)"
   ]
  },
  {
   "cell_type": "code",
   "execution_count": 173,
   "metadata": {},
   "outputs": [
    {
     "name": "stdout",
     "output_type": "stream",
     "text": [
      "197\n",
      "Part 1: (14, 42)\n",
      "Crashed: X:  14 Y:  42 dx:  1 dy:  0\n",
      "Crashed: X:  88 Y:  48 dx:  1 dy:  0\n",
      "Crashed: X:  47 Y:  12 dx:  1 dy:  0\n",
      "Crashed: X: 110 Y:  76 dx:  1 dy:  0\n",
      "Crashed: X:  12 Y:  45 dx:  0 dy:  1\n",
      "Crashed: X:  88 Y:  84 dx:  0 dy:  1\n",
      "Crashed: X: 122 Y:  42 dx:  0 dy:  1\n",
      "Crashed: X: 146 Y:  95 dx:  0 dy: -1\n",
      "Part 2: (8, 7)\n"
     ]
    }
   ],
   "source": [
    "with open('input13.txt', 'rt') as f:\n",
    "    network, carts = parse(f)\n",
    "    crash = run(network, carts)\n",
    "    print('Part 1:', crash)\n",
    "with open('input13.txt', 'rt') as f:\n",
    "    network, carts = parse(f)\n",
    "    print('Part 2:', crash_all(network, carts))"
   ]
  },
  {
   "cell_type": "markdown",
   "metadata": {},
   "source": [
    "# Day 14"
   ]
  },
  {
   "cell_type": "code",
   "execution_count": 179,
   "metadata": {},
   "outputs": [],
   "source": [
    "def get_recipes(n, s=None):\n",
    "    if s is None:\n",
    "        s = [3, 7]\n",
    "    i = 0\n",
    "    j = 1\n",
    "    while len(s) < n + 10:\n",
    "        next_recipe = s[i] + s[j]\n",
    "        if next_recipe >= 10:\n",
    "            s.extend(divmod(next_recipe, 10))\n",
    "        else:\n",
    "            s.append(next_recipe)\n",
    "        i = (i + 1 + s[i]) % len(s)\n",
    "        j = (j + 1 + s[j]) % len(s)\n",
    "    return ''.join(str(v) for v in s[n:n+10])"
   ]
  },
  {
   "cell_type": "code",
   "execution_count": 183,
   "metadata": {},
   "outputs": [],
   "source": [
    "assert get_recipes(9) == '5158916779'\n",
    "assert get_recipes(5) == '0124515891'\n",
    "assert get_recipes(18) == '9251071085'\n",
    "assert get_recipes(2018) == '5941429882'"
   ]
  },
  {
   "cell_type": "code",
   "execution_count": 210,
   "metadata": {},
   "outputs": [],
   "source": [
    "def find_recipe(needle, s=None):\n",
    "    if s is None:\n",
    "        s = '37'\n",
    "    i = 0\n",
    "    j = 1\n",
    "    while s.find(needle, -len(needle) - 2) == -1:\n",
    "        si = int(s[i])\n",
    "        sj = int(s[j])\n",
    "        next_recipe = si + sj\n",
    "        s += str(next_recipe)\n",
    "        i = (i + 1 + si) % len(s)\n",
    "        j = (j + 1 + sj) % len(s)\n",
    "    return s.find(needle)"
   ]
  },
  {
   "cell_type": "code",
   "execution_count": 211,
   "metadata": {},
   "outputs": [],
   "source": [
    "assert find_recipe('51589') == 9\n",
    "assert find_recipe('01245') == 5\n",
    "assert find_recipe('92510') == 18\n",
    "assert find_recipe('59414') == 2018"
   ]
  },
  {
   "cell_type": "code",
   "execution_count": 212,
   "metadata": {},
   "outputs": [
    {
     "name": "stdout",
     "output_type": "stream",
     "text": [
      "Part 1: 4138145721\n",
      "Part 2: 20276284\n"
     ]
    }
   ],
   "source": [
    "print('Part 1:', get_recipes(793061))\n",
    "print('Part 2:', find_recipe('793061'))"
   ]
  },
  {
   "cell_type": "markdown",
   "metadata": {},
   "source": [
    "# Day 15"
   ]
  },
  {
   "cell_type": "code",
   "execution_count": 424,
   "metadata": {},
   "outputs": [],
   "source": [
    "class Actor:\n",
    "    def __init__(self, grid, x, y):\n",
    "        self.grid = grid\n",
    "        self.x = x\n",
    "        self.y = y\n",
    "\n",
    "    def __str__(self):\n",
    "        return '{0}({1.x}, {1.y})'.format(type(self).__name__, self)\n",
    "\n",
    "    @staticmethod\n",
    "    def fromcode(code, grid, x, y):\n",
    "        if code == 'E':\n",
    "            return Elf(grid, x, y)\n",
    "        elif code == 'G':\n",
    "            return Goblin(grid, x, y)\n",
    "\n",
    "    def go(self):\n",
    "        pass\n",
    "    \n",
    "    def move(self):\n",
    "        pass\n",
    "\n",
    "    @property\n",
    "    def reachable(self):\n",
    "        todo = [(self.x + 1, self.y), (self.x - 1, self.y), (self.x, self.y + 1), (self.x, self.y - 1)]\n",
    "        visited = set()\n",
    "        while todo:\n",
    "            pt = todo.pop()\n",
    "            if pt in visited:\n",
    "                continue\n",
    "            visited.add(pt)\n",
    "            x, y = pt\n",
    "            if self.grid[y][x] == '.':\n",
    "                todo.extend([(x + 1, y), (x - 1, y), (x, y + 1), (x, y - 1)])\n",
    "                yield pt\n",
    "\n",
    "\n",
    "    __repr__ = __str__\n",
    "\n",
    "\n",
    "class Goblin(Actor):\n",
    "    pass\n",
    "\n",
    "\n",
    "class Elf(Actor):\n",
    "    pass"
   ]
  },
  {
   "cell_type": "code",
   "execution_count": 425,
   "metadata": {},
   "outputs": [],
   "source": [
    "def parse(f):\n",
    "    grid = [list(line.rstrip()) for line in f]\n",
    "\n",
    "    actors = []\n",
    "    for y, row in enumerate(grid):\n",
    "        for x, block in enumerate(row):\n",
    "            if block in ('E', 'G'):\n",
    "                actors.append(Actor.fromcode(block, grid, x, y))\n",
    "\n",
    "    return actors, grid"
   ]
  },
  {
   "cell_type": "code",
   "execution_count": 426,
   "metadata": {},
   "outputs": [],
   "source": [
    "from io import StringIO\n",
    "f = StringIO('''#######\n",
    "#E..G.#\n",
    "#...#.#\n",
    "#.G.#G#\n",
    "#######''')"
   ]
  },
  {
   "cell_type": "code",
   "execution_count": 427,
   "metadata": {},
   "outputs": [],
   "source": [
    "actors, grid = parse(f)"
   ]
  },
  {
   "cell_type": "code",
   "execution_count": 428,
   "metadata": {},
   "outputs": [
    {
     "data": {
      "text/plain": [
       "[Elf(1, 1), Goblin(4, 1), Goblin(2, 3), Goblin(5, 3)]"
      ]
     },
     "execution_count": 428,
     "metadata": {},
     "output_type": "execute_result"
    }
   ],
   "source": [
    "actors"
   ]
  },
  {
   "cell_type": "code",
   "execution_count": 429,
   "metadata": {},
   "outputs": [
    {
     "data": {
      "text/plain": [
       "{(1, 2), (1, 3), (2, 1), (2, 2), (3, 1), (3, 2), (3, 3)}"
      ]
     },
     "execution_count": 429,
     "metadata": {},
     "output_type": "execute_result"
    }
   ],
   "source": [
    "set(actors[0].reachable)"
   ]
  },
  {
   "cell_type": "code",
   "execution_count": null,
   "metadata": {},
   "outputs": [],
   "source": []
  },
  {
   "cell_type": "code",
   "execution_count": null,
   "metadata": {},
   "outputs": [],
   "source": []
  },
  {
   "cell_type": "markdown",
   "metadata": {},
   "source": [
    "# Day 16"
   ]
  },
  {
   "cell_type": "code",
   "execution_count": 297,
   "metadata": {},
   "outputs": [],
   "source": [
    "class Computer:\n",
    "    def __init__(self, regs=None):\n",
    "        if regs is None:\n",
    "            regs = [0, 0, 0, 0]\n",
    "        self.regs = regs\n",
    "\n",
    "    def addr(self, a, b, c):\n",
    "        self.regs[c] = self.regs[a] + self.regs[b]\n",
    "\n",
    "    def addi(self, a, b, c):\n",
    "        self.regs[c] = self.regs[a] + b\n",
    "\n",
    "    def mulr(self, a, b, c):\n",
    "        self.regs[c] = self.regs[a] * self.regs[b]\n",
    "\n",
    "    def muli(self, a, b, c):\n",
    "        self.regs[c] = self.regs[a] * b\n",
    "\n",
    "    def banr(self, a, b, c):\n",
    "        self.regs[c] = self.regs[a] & self.regs[b]\n",
    "\n",
    "    def bani(self, a, b, c):\n",
    "        self.regs[c] = self.regs[a] & b\n",
    "\n",
    "    def borr(self, a, b, c):\n",
    "        self.regs[c] = self.regs[a] | self.regs[b]\n",
    "\n",
    "    def bori(self, a, b, c):\n",
    "        self.regs[c] = self.regs[a] | b\n",
    "\n",
    "    def setr(self, a, b, c):\n",
    "        self.regs[c] = self.regs[a]\n",
    "\n",
    "    def seti(self, a, b, c):\n",
    "        self.regs[c] = a\n",
    "\n",
    "    def gtir(self, a, b, c):\n",
    "        self.regs[c] = int(a > self.regs[b])\n",
    "\n",
    "    def gtri(self, a, b, c):\n",
    "        self.regs[c] = int(self.regs[a] > b)\n",
    "\n",
    "    def gtrr(self, a, b, c):\n",
    "        self.regs[c] = int(self.regs[a] > self.regs[b])\n",
    "\n",
    "    def eqir(self, a, b, c):\n",
    "        self.regs[c] = int(a == self.regs[b])\n",
    "\n",
    "    def eqri(self, a, b, c):\n",
    "        self.regs[c] = int(self.regs[a] == b)\n",
    "\n",
    "    def eqrr(self, a, b, c):\n",
    "        self.regs[c] = int(self.regs[a] == self.regs[b])\n",
    "\n",
    "    def train(self, commands, before, after):\n",
    "        all_funcs = (self.addr, self.addi, self.mulr, self.muli,\n",
    "                     self.banr, self.bani, self.borr, self.bori,\n",
    "                     self.setr, self.seti, self.gtir, self.gtri,\n",
    "                     self.gtrr, self.eqir, self.eqri, self.eqrr)\n",
    "        opcode_map = dict()\n",
    "        for b, c, a in zip(before, commands, after):\n",
    "            opcode, *params = c\n",
    "            options = opcode_map.setdefault(opcode, list(all_funcs))\n",
    "            works = []\n",
    "            for cmd in options:\n",
    "                self.regs = b.copy()\n",
    "                cmd(*params)\n",
    "                if self.regs == a:\n",
    "                    works.append(cmd)\n",
    "            opcode_map[opcode] = works\n",
    "\n",
    "        # Determine what options exist for each funciton rather than each code\n",
    "        func_options = dict()\n",
    "        for code, options in opcode_map.items():\n",
    "            for o in options:\n",
    "                func_options.setdefault(o, []).append(code)\n",
    "\n",
    "        self._code_map = dict()\n",
    "        done = set()\n",
    "        while func_options:\n",
    "            for func, options in sorted(func_options.items(), key=lambda i: len(i[1])):\n",
    "                left = set(options) - done\n",
    "                if len(left) == 1:\n",
    "                    done |= left\n",
    "                    self._code_map[list(left)[0]] = func\n",
    "            for func in self._code_map.values():\n",
    "                if func in func_options:\n",
    "                    func_options.pop(func)\n",
    "    \n",
    "        self.regs = [0, 0, 0, 0]\n",
    "    \n",
    "    def __call__(self, opcode, a, b, c):\n",
    "        self._code_map[opcode](a, b, c)"
   ]
  },
  {
   "cell_type": "code",
   "execution_count": 298,
   "metadata": {},
   "outputs": [],
   "source": [
    "def count_works(command, before, after):\n",
    "    c = Computer()\n",
    "    works = 0\n",
    "    for cmd in (c.addr, c.addi, c.mulr, c.muli, c.banr, c.bani, c.borr, c.bori,\n",
    "                c.setr, c.seti, c.gtir, c.gtri, c.gtrr, c.eqir, c.eqri, c.eqrr):\n",
    "        c.regs = before.copy()\n",
    "        cmd(*command[1:])\n",
    "        works += int(c.regs == after)\n",
    "    return works"
   ]
  },
  {
   "cell_type": "code",
   "execution_count": 299,
   "metadata": {},
   "outputs": [],
   "source": [
    "from ast import literal_eval\n",
    "\n",
    "def parse(f):\n",
    "    before = []\n",
    "    command = []\n",
    "    after = []\n",
    "    data = list(f)\n",
    "    for i in range(0, len(data), 4):\n",
    "        before.append(literal_eval(data[i].split(':')[-1].strip()))\n",
    "        command.append(list(map(int, data[i+1].split())))\n",
    "        after.append(literal_eval(data[i+2].split(':')[-1].strip()))\n",
    "    return before, command, after\n",
    "\n",
    "def total(before, command, after):\n",
    "    count = 0\n",
    "    for b,c,a in zip(before, command, after):\n",
    "        count += int(count_works(c, b, a) >= 3)\n",
    "    return count"
   ]
  },
  {
   "cell_type": "code",
   "execution_count": 300,
   "metadata": {},
   "outputs": [],
   "source": [
    "assert count_works([9, 2, 1, 2], [3, 2, 1, 1], [3, 2, 2, 1]) == 3"
   ]
  },
  {
   "cell_type": "code",
   "execution_count": 305,
   "metadata": {},
   "outputs": [
    {
     "name": "stdout",
     "output_type": "stream",
     "text": [
      "Part 1: 642\n",
      "Part 2: 481\n"
     ]
    }
   ],
   "source": [
    "with open('input16-1.txt', 'rt') as f:\n",
    "    before, command, after = parse(f)\n",
    "    print('Part 1:', total(before, command, after))\n",
    "\n",
    "comp = Computer()\n",
    "comp.train(command, before, after)\n",
    "with open('input16-2.txt', 'rt') as f:\n",
    "    for line in f:\n",
    "        comp(*map(int, line.split()))\n",
    "print('Part 2:', comp.regs[0])"
   ]
  },
  {
   "cell_type": "markdown",
   "metadata": {},
   "source": [
    "# Day 17"
   ]
  },
  {
   "cell_type": "code",
   "execution_count": 157,
   "metadata": {},
   "outputs": [],
   "source": [
    "import numpy as np\n",
    "\n",
    "def parse(f):\n",
    "    grid = np.zeros((2000, 2000), dtype=np.int32)\n",
    "    for line in f:\n",
    "        fixed, vein = line.split(',')\n",
    "        axis_fixed, val = fixed.split('=')\n",
    "        axis_vein, rng = vein.split('=')\n",
    "        start, end = map(int, rng.split('..'))\n",
    "        if axis_fixed == 'x':\n",
    "            grid[start:end + 1, int(val)] = 1\n",
    "        else:\n",
    "            grid[int(val), start:end + 1] = 1\n",
    "    return grid"
   ]
  },
  {
   "cell_type": "code",
   "execution_count": 158,
   "metadata": {},
   "outputs": [],
   "source": [
    "from io import StringIO\n",
    "f = StringIO('''x=495, y=2..7\n",
    "y=7, x=495..501\n",
    "x=501, y=3..7\n",
    "x=498, y=2..4\n",
    "x=506, y=1..2\n",
    "x=498, y=10..13\n",
    "x=504, y=10..13\n",
    "y=13, x=498..504''')\n",
    "grid = parse(f)"
   ]
  },
  {
   "cell_type": "code",
   "execution_count": 162,
   "metadata": {},
   "outputs": [
    {
     "name": "stdout",
     "output_type": "stream",
     "text": [
      "Object `nonzero` not found.\n"
     ]
    }
   ],
   "source": [
    "grid[0:, 500].nonzero?"
   ]
  },
  {
   "cell_type": "code",
   "execution_count": null,
   "metadata": {},
   "outputs": [],
   "source": [
    "grid[0:, 500].nonzero"
   ]
  },
  {
   "cell_type": "code",
   "execution_count": null,
   "metadata": {},
   "outputs": [],
   "source": [
    "def flow(grid, source=(0, 500)):\n",
    "    sources = [source]\n",
    "    while sources:\n",
    "        src = sources.pop()"
   ]
  },
  {
   "cell_type": "markdown",
   "metadata": {},
   "source": [
    "# Day 18"
   ]
  },
  {
   "cell_type": "code",
   "execution_count": 433,
   "metadata": {},
   "outputs": [],
   "source": [
    "import numpy as np\n",
    "\n",
    "def parse(f):\n",
    "    val_map = {'.': 0, '|': 1, '#': 2}\n",
    "    rows = []\n",
    "    for line in f:\n",
    "        rows.append([])\n",
    "        for c in line.rstrip():\n",
    "            rows[-1].append(val_map[c])\n",
    "    return np.array(rows)"
   ]
  },
  {
   "cell_type": "code",
   "execution_count": 468,
   "metadata": {},
   "outputs": [],
   "source": [
    "def iterate(grid, iters=10):\n",
    "    for _ in range(iters):\n",
    "        next_grid = np.zeros_like(grid)\n",
    "        for (y, x), val in np.ndenumerate(grid):\n",
    "            domain = grid[max(y - 1, 0) : y + 2, max(x - 1, 0) : x + 2]\n",
    "            if val == 0 and np.sum(domain == 1) >= 3:\n",
    "                next_grid[y, x] = 1\n",
    "            elif val == 1 and np.sum(domain == 2) >= 3:\n",
    "                next_grid[y, x] = 2\n",
    "            elif val == 2 and not (np.sum(domain == 2) >= 2 and np.sum(domain == 1) >= 1):\n",
    "                next_grid[y, x] = 0\n",
    "            else:\n",
    "                next_grid[y, x] = val\n",
    "        grid = next_grid\n",
    "    return grid\n",
    "\n",
    "def score(grid):\n",
    "    return np.sum(grid == 1) * np.sum(grid == 2)"
   ]
  },
  {
   "cell_type": "code",
   "execution_count": 469,
   "metadata": {},
   "outputs": [],
   "source": [
    "from io import StringIO\n",
    "f = StringIO('''.#.#...|#.\n",
    ".....#|##|\n",
    ".|..|...#.\n",
    "..|#.....#\n",
    "#.#|||#|#|\n",
    "...#.||...\n",
    ".|....|...\n",
    "||...#|.#|\n",
    "|.||||..|.\n",
    "...#.|..|.''')\n",
    "grid = parse(f)"
   ]
  },
  {
   "cell_type": "code",
   "execution_count": 470,
   "metadata": {},
   "outputs": [],
   "source": [
    "new_grid = iterate(grid)\n",
    "assert score(new_grid) == 1147"
   ]
  },
  {
   "cell_type": "code",
   "execution_count": 471,
   "metadata": {},
   "outputs": [
    {
     "name": "stdout",
     "output_type": "stream",
     "text": [
      "Part 1: 574590\n"
     ]
    }
   ],
   "source": [
    "with open('input18.txt', 'rt') as f:\n",
    "    grid = parse(f)\n",
    "    new_grid = iterate(grid)\n",
    "    print('Part 1:', score(new_grid))"
   ]
  },
  {
   "cell_type": "code",
   "execution_count": 484,
   "metadata": {},
   "outputs": [],
   "source": [
    "minutes = 500\n",
    "new_grid = iterate(grid, minutes)\n",
    "options = []\n",
    "for i in range(28):\n",
    "    new_grid = iterate(new_grid, 1)\n",
    "    options.append(score(new_grid))"
   ]
  },
  {
   "cell_type": "code",
   "execution_count": 486,
   "metadata": {},
   "outputs": [
    {
     "data": {
      "text/plain": [
       "183787"
      ]
     },
     "execution_count": 486,
     "metadata": {},
     "output_type": "execute_result"
    }
   ],
   "source": [
    "options[(1000000000 - minutes - 1) % len(options)]"
   ]
  },
  {
   "cell_type": "markdown",
   "metadata": {},
   "source": [
    "# Day 19"
   ]
  },
  {
   "cell_type": "code",
   "execution_count": 2,
   "metadata": {},
   "outputs": [],
   "source": [
    "def parse(f):\n",
    "    ip = int(f.readline().split()[-1])\n",
    "    code = [[line.split()[0]] + list(map(int, line.split()[1:])) for line in f]\n",
    "    return ip, code"
   ]
  },
  {
   "cell_type": "code",
   "execution_count": 133,
   "metadata": {},
   "outputs": [],
   "source": [
    "class Computer:\n",
    "    def __init__(self, regs=None):\n",
    "        if regs is None:\n",
    "            regs = [0] * 6\n",
    "        self.regs = regs\n",
    "        self.ip = 0\n",
    "        self.ipreg = 0\n",
    "\n",
    "    def addr(self, a, b, c):\n",
    "        self.regs[c] = self.regs[a] + self.regs[b]\n",
    "\n",
    "    def addi(self, a, b, c):\n",
    "        self.regs[c] = self.regs[a] + b\n",
    "\n",
    "    def mulr(self, a, b, c):\n",
    "        self.regs[c] = self.regs[a] * self.regs[b]\n",
    "\n",
    "    def muli(self, a, b, c):\n",
    "        self.regs[c] = self.regs[a] * b\n",
    "\n",
    "    def banr(self, a, b, c):\n",
    "        self.regs[c] = self.regs[a] & self.regs[b]\n",
    "\n",
    "    def bani(self, a, b, c):\n",
    "        self.regs[c] = self.regs[a] & b\n",
    "\n",
    "    def borr(self, a, b, c):\n",
    "        self.regs[c] = self.regs[a] | self.regs[b]\n",
    "\n",
    "    def bori(self, a, b, c):\n",
    "        self.regs[c] = self.regs[a] | b\n",
    "\n",
    "    def setr(self, a, b, c):\n",
    "        self.regs[c] = self.regs[a]\n",
    "\n",
    "    def seti(self, a, b, c):\n",
    "        self.regs[c] = a\n",
    "\n",
    "    def gtir(self, a, b, c):\n",
    "        self.regs[c] = int(a > self.regs[b])\n",
    "\n",
    "    def gtri(self, a, b, c):\n",
    "        self.regs[c] = int(self.regs[a] > b)\n",
    "\n",
    "    def gtrr(self, a, b, c):\n",
    "        self.regs[c] = int(self.regs[a] > self.regs[b])\n",
    "\n",
    "    def eqir(self, a, b, c):\n",
    "        self.regs[c] = int(a == self.regs[b])\n",
    "\n",
    "    def eqri(self, a, b, c):\n",
    "        self.regs[c] = int(self.regs[a] == b)\n",
    "\n",
    "    def eqrr(self, a, b, c):\n",
    "        self.regs[c] = int(self.regs[a] == self.regs[b])\n",
    "\n",
    "    # Hacks to optimize\n",
    "    def divr(self, a, b, c):\n",
    "        self.regs[c] = self.regs[a] // self.regs[b]\n",
    "\n",
    "    def divi(self, a, b, c):\n",
    "        self.regs[c] = self.regs[a] // b\n",
    "        \n",
    "    def execute(self, code):\n",
    "        counter = 0\n",
    "        while self.ip < len(code):\n",
    "            self.regs[self.ipreg] = self.ip\n",
    "            self(*code[self.ip])\n",
    "            #print(code[self.ip], self.regs)\n",
    "            self.ip = self.regs[self.ipreg] + 1\n",
    "            counter += 1\n",
    "        return counter\n",
    "    \n",
    "    def __call__(self, opcode, a, b, c):\n",
    "        getattr(self, opcode)(a, b, c)"
   ]
  },
  {
   "cell_type": "code",
   "execution_count": 134,
   "metadata": {},
   "outputs": [],
   "source": [
    "from io import StringIO\n",
    "f = StringIO('''#ip 0\n",
    "seti 5 0 1\n",
    "seti 6 0 2\n",
    "addi 0 1 0\n",
    "addr 1 2 3\n",
    "setr 1 0 0\n",
    "seti 8 0 4\n",
    "seti 9 0 5''')"
   ]
  },
  {
   "cell_type": "code",
   "execution_count": 135,
   "metadata": {},
   "outputs": [],
   "source": [
    "ip, code = parse(f)"
   ]
  },
  {
   "cell_type": "code",
   "execution_count": 136,
   "metadata": {},
   "outputs": [],
   "source": [
    "comp = Computer()\n",
    "comp.ipreg = ip\n",
    "comp.execute(code)\n",
    "assert comp.regs == [6, 5, 6, 0, 0, 9]"
   ]
  },
  {
   "cell_type": "code",
   "execution_count": 146,
   "metadata": {},
   "outputs": [
    {
     "name": "stdout",
     "output_type": "stream",
     "text": [
      "Part 1: 2520\n"
     ]
    }
   ],
   "source": [
    "with open('input19.txt', 'rt') as f:\n",
    "    ip, code = parse(f)\n",
    "\n",
    "    comp = Computer()\n",
    "    comp.ipreg = ip\n",
    "    comp.execute(code)\n",
    "    print('Part 1:', comp.regs[0])"
   ]
  },
  {
   "cell_type": "code",
   "execution_count": 154,
   "metadata": {},
   "outputs": [
    {
     "name": "stdout",
     "output_type": "stream",
     "text": [
      "Part 2: 27941760\n"
     ]
    }
   ],
   "source": [
    "with open('input19.txt', 'rt') as f:\n",
    "    ip, code = parse(f)\n",
    "    \n",
    "    # Determine reg3 by dividing rather than loop\n",
    "    code[2] = ['divr', 5, 1, 3]\n",
    "    code[9] = ['eqrr', 3, 3, 2] # Hack to skip loop\n",
    "    \n",
    "    comp = Computer([1, 0, 0, 0, 0, 0])\n",
    "    comp.ipreg = ip\n",
    "    comp.execute(code)\n",
    "    print('Part 2:', comp.regs[0])"
   ]
  },
  {
   "cell_type": "markdown",
   "metadata": {},
   "source": [
    "# Day 21"
   ]
  },
  {
   "cell_type": "code",
   "execution_count": 61,
   "metadata": {},
   "outputs": [
    {
     "data": {
      "text/plain": [
       "1848"
      ]
     },
     "execution_count": 61,
     "metadata": {},
     "output_type": "execute_result"
    }
   ],
   "source": [
    "with open('input21.txt', 'rt') as f:\n",
    "    ip, code = parse(f)\n",
    "\n",
    "# Optimize their code with our div instruction\n",
    "#code[17] = ['divi', 4, 256, 4]\n",
    "#code[18] = code[28]\n",
    "    \n",
    "comp = Computer()\n",
    "comp.ipreg = ip\n",
    "comp.regs[0] = 1797184\n",
    "comp.execute(code)"
   ]
  },
  {
   "cell_type": "code",
   "execution_count": 71,
   "metadata": {},
   "outputs": [
    {
     "data": {
      "text/plain": [
       "395674"
      ]
     },
     "execution_count": 71,
     "metadata": {},
     "output_type": "execute_result"
    }
   ],
   "source": [
    "with open('input21.txt', 'rt') as f:\n",
    "    ip, code = parse(f)\n",
    "\n",
    "# Optimize their code with our div instruction\n",
    "code[17] = ['divi', 4, 256, 4]\n",
    "code[18] = code[27]\n",
    "    \n",
    "comp = Computer()\n",
    "comp.ipreg = ip\n",
    "comp.regs[0] = 11011493\n",
    "comp.execute(code)"
   ]
  },
  {
   "cell_type": "markdown",
   "metadata": {},
   "source": [
    "# Day 22"
   ]
  },
  {
   "cell_type": "code",
   "execution_count": 116,
   "metadata": {},
   "outputs": [],
   "source": [
    "from functools import lru_cache\n",
    "\n",
    "@lru_cache(100000)\n",
    "def risk_level(x, y, depth, target_loc):\n",
    "    return erosion_level(x, y, depth, target_loc) % 3\n",
    "\n",
    "@lru_cache(100000)\n",
    "def erosion_level(x, y, depth, target_loc):\n",
    "    return (geologic_index(x, y, depth, target_loc) + depth) % 20183\n",
    "\n",
    "@lru_cache(100000)\n",
    "def geologic_index(x, y, depth, target_loc):\n",
    "    if (x, y) == target_loc:\n",
    "        return 0\n",
    "    if x == 0:\n",
    "        return y * 48271\n",
    "    if y == 0:\n",
    "        return x * 16807\n",
    "    return erosion_level(x - 1, y, depth, target_loc) * erosion_level(x, y - 1, depth, target_loc)"
   ]
  },
  {
   "cell_type": "code",
   "execution_count": 117,
   "metadata": {},
   "outputs": [],
   "source": [
    "assert risk_level(0, 0, 510, (10, 10)) == 0\n",
    "assert risk_level(1, 0, 510, (10, 10)) == 1\n",
    "assert risk_level(0, 1, 510, (10, 10)) == 0\n",
    "assert risk_level(1, 1, 510, (10, 10)) == 2\n",
    "assert risk_level(10, 10, 510, (10, 10)) == 0"
   ]
  },
  {
   "cell_type": "code",
   "execution_count": 118,
   "metadata": {},
   "outputs": [],
   "source": [
    "def total_risk(depth, target):\n",
    "    return sum(risk_level(i, j, depth, target) for i in range(target[0] + 1) for j in range(target[1] + 1))"
   ]
  },
  {
   "cell_type": "code",
   "execution_count": 119,
   "metadata": {},
   "outputs": [],
   "source": [
    "target = (10, 10)\n",
    "depth = 510\n",
    "assert total_risk(depth, target) == 114"
   ]
  },
  {
   "cell_type": "code",
   "execution_count": 120,
   "metadata": {},
   "outputs": [
    {
     "name": "stdout",
     "output_type": "stream",
     "text": [
      "Part 1: 9940\n"
     ]
    }
   ],
   "source": [
    "target = (13, 704)\n",
    "depth = 9465\n",
    "print('Part 1:', total_risk(depth, target))"
   ]
  },
  {
   "cell_type": "markdown",
   "metadata": {},
   "source": [
    "# Day 23"
   ]
  },
  {
   "cell_type": "code",
   "execution_count": 173,
   "metadata": {},
   "outputs": [],
   "source": [
    "def parse(f):\n",
    "    l = []\n",
    "    for line in f:\n",
    "        x, y, z, r = line.split(',')\n",
    "        x = int(x[5:])\n",
    "        y = int(y)\n",
    "        z = int(z[:-1])\n",
    "        r = int(r[3:])\n",
    "        l.append((x, y, z, r))\n",
    "    return np.array(l).T"
   ]
  },
  {
   "cell_type": "code",
   "execution_count": 203,
   "metadata": {},
   "outputs": [],
   "source": [
    "def within_max(x, y, z, r):\n",
    "    max_ind = r.argmax()\n",
    "    return np.abs(x - x[max_ind]) + np.abs(y - y[max_ind]) + np.abs(z - z[max_ind]) <= r[max_ind]\n",
    "\n",
    "def count_within(x, y, z, r, x0, y0, z0):\n",
    "    return (np.abs(x - x0) + np.abs(y - y0) + np.abs(z - z0) <= r).sum()"
   ]
  },
  {
   "cell_type": "code",
   "execution_count": 199,
   "metadata": {},
   "outputs": [],
   "source": [
    "from io import StringIO\n",
    "f = StringIO('''pos=<0,0,0>, r=4\n",
    "pos=<1,0,0>, r=1\n",
    "pos=<4,0,0>, r=3\n",
    "pos=<0,2,0>, r=1\n",
    "pos=<0,5,0>, r=3\n",
    "pos=<0,0,3>, r=1\n",
    "pos=<1,1,1>, r=1\n",
    "pos=<1,1,2>, r=1\n",
    "pos=<1,3,1>, r=1''')\n",
    "x, y, z, r = parse(f)"
   ]
  },
  {
   "cell_type": "code",
   "execution_count": 201,
   "metadata": {},
   "outputs": [],
   "source": [
    "assert within_max(x, y, z, r).sum() == 7"
   ]
  },
  {
   "cell_type": "code",
   "execution_count": 213,
   "metadata": {},
   "outputs": [],
   "source": [
    "from io import StringIO\n",
    "f = StringIO('''pos=<10,12,12>, r=2\n",
    "pos=<12,14,12>, r=2\n",
    "pos=<16,12,12>, r=4\n",
    "pos=<14,14,14>, r=6\n",
    "pos=<50,50,50>, r=200\n",
    "pos=<10,10,10>, r=5''')\n",
    "x, y, z, r = parse(f)"
   ]
  },
  {
   "cell_type": "code",
   "execution_count": 215,
   "metadata": {},
   "outputs": [],
   "source": [
    "assert count_within(x, y, z, r, 12, 12, 12) == 5"
   ]
  },
  {
   "cell_type": "code",
   "execution_count": 228,
   "metadata": {},
   "outputs": [
    {
     "name": "stdout",
     "output_type": "stream",
     "text": [
      "Part 1: 616\n"
     ]
    }
   ],
   "source": [
    "with open('input23.txt', 'rt') as f:\n",
    "    x, y, z, r = parse(f)\n",
    "    mask = within_max(x, y, z, r)\n",
    "    print('Part 1:', mask.sum())"
   ]
  },
  {
   "cell_type": "code",
   "execution_count": 290,
   "metadata": {},
   "outputs": [
    {
     "name": "stdout",
     "output_type": "stream",
     "text": [
      "[23837726. 58140721. 11772283.] 70\n",
      "[23837205. 58141311. 11772354.] 58\n",
      "[23837205. 58141311. 11772354.] 58\n",
      "[23837205. 58141311. 11772354.] 58\n",
      "[23837205. 58141311. 11772354.] 58\n",
      "[23837205. 58141311. 11772354.] 58\n",
      "[23837205. 58141311. 11772354.] 58\n",
      "[23837205. 58141311. 11772354.] 58\n",
      "[23837205. 58141311. 11772354.] 58\n",
      "[23837205. 58141311. 11772354.] 58\n"
     ]
    }
   ],
   "source": [
    "from scipy.optimize import basinhopping\n",
    "x0 = (23837205, 58141311, 11772354)\n",
    "for _ in range(10):\n",
    "    res = basinhopping(lambda xpt: 1000 - count_within(x, y, z, r, *xpt), x0, T=100, niter=100000)\n",
    "    x0 = np.round(res['x'])\n",
    "    print(x0, res['fun'])"
   ]
  },
  {
   "cell_type": "code",
   "execution_count": 292,
   "metadata": {},
   "outputs": [
    {
     "data": {
      "text/plain": [
       "942"
      ]
     },
     "execution_count": 292,
     "metadata": {},
     "output_type": "execute_result"
    }
   ],
   "source": [
    "count_within(x, y, z, r, 23837205, 58141311, 11772354)"
   ]
  },
  {
   "cell_type": "code",
   "execution_count": 291,
   "metadata": {},
   "outputs": [
    {
     "data": {
      "text/plain": [
       "93750870.0"
      ]
     },
     "execution_count": 291,
     "metadata": {},
     "output_type": "execute_result"
    }
   ],
   "source": [
    "sum(x0)"
   ]
  },
  {
   "cell_type": "markdown",
   "metadata": {},
   "source": [
    "# Day 24"
   ]
  },
  {
   "cell_type": "code",
   "execution_count": 433,
   "metadata": {},
   "outputs": [],
   "source": [
    "from dataclasses import dataclass, field\n",
    "from typing import List\n",
    "\n",
    "@dataclass\n",
    "class Group:\n",
    "    initiative: int\n",
    "    hit_points: int\n",
    "    units: int\n",
    "    attack: int\n",
    "    attack_type: str\n",
    "    weaknesses: List[str] = field(default_factory=list)\n",
    "    immunities: List[str] = field(default_factory=list)\n",
    "    \n",
    "    def __hash__(self):\n",
    "        return self.initiative\n",
    "\n",
    "    @property\n",
    "    def power(self):\n",
    "        return self.units * self.attack"
   ]
  },
  {
   "cell_type": "code",
   "execution_count": 516,
   "metadata": {},
   "outputs": [],
   "source": [
    "import re\n",
    "parser = re.compile(r'(\\d+) units each with (\\d+) hit points( \\([a-z ,;]*\\))? with an attack that does (\\d+) (\\w+) damage at initiative (\\d+)')\n",
    "\n",
    "def parse_special(s):\n",
    "    s = s[2:-1]\n",
    "    weak = []\n",
    "    immune = []\n",
    "    while s:\n",
    "        if ';' in s:\n",
    "            ind = s.index(';')\n",
    "            src = s[:ind]\n",
    "            s = s[ind + 2:]\n",
    "        else:\n",
    "            src = s\n",
    "            s = ''\n",
    "\n",
    "        if src.startswith('weak'):\n",
    "            weak = src[8:].split(', ')\n",
    "        else:\n",
    "            immune = src[10:].split(', ')\n",
    "\n",
    "    return weak, immune\n",
    "\n",
    "\n",
    "def parse(f):\n",
    "    immune =[]\n",
    "    f.readline()\n",
    "    for line in f:\n",
    "        if not line.rstrip():\n",
    "            break\n",
    "        pieces = parser.match(line.rstrip()).groups()\n",
    "        immune.append(Group(int(pieces[-1]), int(pieces[1]), int(pieces[0]), int(pieces[3]), pieces[4]))\n",
    "        if pieces[2] is not None:\n",
    "            weak, strong = parse_special(pieces[2])\n",
    "            immune[-1].weaknesses = weak\n",
    "            immune[-1].immunities = strong\n",
    "\n",
    "    infection = []\n",
    "    f.readline()\n",
    "    for line in f:\n",
    "        if not line.rstrip():\n",
    "            break\n",
    "        pieces = parser.match(line.rstrip()).groups()\n",
    "        infection.append(Group(int(pieces[-1]), int(pieces[1]), int(pieces[0]), int(pieces[3]), pieces[4]))\n",
    "        if pieces[2] is not None:\n",
    "            weak, strong = parse_special(pieces[2])\n",
    "            infection[-1].weaknesses = weak\n",
    "            infection[-1].immunities = strong\n",
    "\n",
    "    return immune, infection"
   ]
  },
  {
   "cell_type": "code",
   "execution_count": 526,
   "metadata": {},
   "outputs": [],
   "source": [
    "def damage(attacker, defender):\n",
    "    base = attacker.power\n",
    "    if attacker.attack_type in defender.weaknesses:\n",
    "        base *= 2\n",
    "    elif attacker.attack_type in defender.immunities:\n",
    "        base = 0\n",
    "    return base\n",
    "\n",
    "def select_targets(attackers, defenders):\n",
    "    targets = dict()\n",
    "    remaining = set(defenders)\n",
    "    for group in sorted(attackers, key=lambda g: (g.power, g.initiative))[::-1]:\n",
    "        if not remaining:\n",
    "            break\n",
    "        target = max(remaining, key=lambda d: (damage(group, d), d.power, d.initiative))\n",
    "        if damage(group, target) != 0:\n",
    "            targets[group] = target\n",
    "            remaining.remove(target)\n",
    "    return targets\n",
    "\n",
    "def attack(groups, targets):\n",
    "    for g in reversed(sorted(groups, key=lambda g: g.initiative)):\n",
    "        if g.units > 0 and g in targets:\n",
    "            target = targets[g]\n",
    "            killed = min(damage(g, target) // target.hit_points, target.units)\n",
    "#             print(g.initiative, damage(g, target), g.units, target.units, killed)\n",
    "            target.units -= killed\n",
    "\n",
    "def loop(immune, infection, boost=0):\n",
    "    for i in immune:\n",
    "        i.attack += boost\n",
    "    while immune and infection:\n",
    "        targets = {**select_targets(immune, infection), **select_targets(infection, immune)}\n",
    "#         print(targets)\n",
    "        attack(immune + infection, targets)\n",
    "#         print(immune, infection)\n",
    "        immune = [i for i in immune if i.units > 0]\n",
    "        infection = [i for i in infection if i.units > 0]\n",
    "    return immune, infection"
   ]
  },
  {
   "cell_type": "code",
   "execution_count": 529,
   "metadata": {},
   "outputs": [],
   "source": [
    "from io import StringIO\n",
    "f = StringIO('''Immune System:\n",
    "17 units each with 5390 hit points (weak to radiation, bludgeoning) with an attack that does 4507 fire damage at initiative 2\n",
    "989 units each with 1274 hit points (immune to fire; weak to bludgeoning, slashing) with an attack that does 25 slashing damage at initiative 3\n",
    "\n",
    "Infection:\n",
    "801 units each with 4706 hit points (weak to radiation) with an attack that does 116 bludgeoning damage at initiative 1\n",
    "4485 units each with 2961 hit points (immune to radiation; weak to fire, cold) with an attack that does 12 slashing damage at initiative 4''')\n",
    "immune, infection = parse(f)"
   ]
  },
  {
   "cell_type": "code",
   "execution_count": 528,
   "metadata": {},
   "outputs": [],
   "source": [
    "im, inf = loop(immune, infection\n",
    "assert sum(g.units for g in im+inf) == 5216"
   ]
  },
  {
   "cell_type": "code",
   "execution_count": 530,
   "metadata": {},
   "outputs": [],
   "source": [
    "im, inf = loop(immune, infection, 1570)\n",
    "assert sum(g.units for g in im + inf) == 51"
   ]
  },
  {
   "cell_type": "code",
   "execution_count": 551,
   "metadata": {},
   "outputs": [
    {
     "name": "stdout",
     "output_type": "stream",
     "text": [
      "Part 1: 16006\n"
     ]
    }
   ],
   "source": [
    "with open('input24.txt', 'rt') as f:\n",
    "    immune, infection = parse(f)\n",
    "    im, inf = loop(immune, infection)\n",
    "    print('Part 1:', sum(g.units for g in im + inf))"
   ]
  },
  {
   "cell_type": "code",
   "execution_count": 571,
   "metadata": {},
   "outputs": [
    {
     "name": "stdout",
     "output_type": "stream",
     "text": [
      "Part 2: 0\n"
     ]
    }
   ],
   "source": [
    "with open('input24.txt', 'rt') as f:\n",
    "    f.seek(0)\n",
    "    for boost in range(0, 3000):\n",
    "        immune, infection = parse(f)\n",
    "        im, inf = loop(immune, infection, boost)\n",
    "        if im:\n",
    "            break\n",
    "    print('Part 2:', sum(g.units for g in im + inf))"
   ]
  },
  {
   "cell_type": "code",
   "execution_count": 577,
   "metadata": {},
   "outputs": [
    {
     "data": {
      "text/plain": [
       "[Group(initiative=14, hit_points=9917, units=6221, attack=56, attack_type='fire', weaknesses=['cold'], immunities=['slashing'])]"
      ]
     },
     "execution_count": 577,
     "metadata": {},
     "output_type": "execute_result"
    }
   ],
   "source": [
    "with open('input24.txt', 'rt') as f:\n",
    "    immune, infection = parse(f)\n",
    "    im, inf = loop(immune, infection, 46)\n",
    "im"
   ]
  },
  {
   "cell_type": "markdown",
   "metadata": {},
   "source": [
    "# Day 25"
   ]
  },
  {
   "cell_type": "code",
   "execution_count": null,
   "metadata": {},
   "outputs": [],
   "source": []
  }
 ],
 "metadata": {
  "kernelspec": {
   "display_name": "py37",
   "language": "python",
   "name": "conda-env-py37-py"
  },
  "language_info": {
   "codemirror_mode": {
    "name": "ipython",
    "version": 3
   },
   "file_extension": ".py",
   "mimetype": "text/x-python",
   "name": "python",
   "nbconvert_exporter": "python",
   "pygments_lexer": "ipython3",
   "version": "3.7.8"
  }
 },
 "nbformat": 4,
 "nbformat_minor": 4
}
