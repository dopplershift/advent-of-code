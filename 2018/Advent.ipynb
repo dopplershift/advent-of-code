{
 "cells": [
  {
   "cell_type": "markdown",
   "metadata": {},
   "source": [
    "# Day 15"
   ]
  },
  {
   "cell_type": "code",
   "execution_count": 424,
   "metadata": {},
   "outputs": [],
   "source": [
    "class Actor:\n",
    "    def __init__(self, grid, x, y):\n",
    "        self.grid = grid\n",
    "        self.x = x\n",
    "        self.y = y\n",
    "\n",
    "    def __str__(self):\n",
    "        return '{0}({1.x}, {1.y})'.format(type(self).__name__, self)\n",
    "\n",
    "    @staticmethod\n",
    "    def fromcode(code, grid, x, y):\n",
    "        if code == 'E':\n",
    "            return Elf(grid, x, y)\n",
    "        elif code == 'G':\n",
    "            return Goblin(grid, x, y)\n",
    "\n",
    "    def go(self):\n",
    "        pass\n",
    "    \n",
    "    def move(self):\n",
    "        pass\n",
    "\n",
    "    @property\n",
    "    def reachable(self):\n",
    "        todo = [(self.x + 1, self.y), (self.x - 1, self.y), (self.x, self.y + 1), (self.x, self.y - 1)]\n",
    "        visited = set()\n",
    "        while todo:\n",
    "            pt = todo.pop()\n",
    "            if pt in visited:\n",
    "                continue\n",
    "            visited.add(pt)\n",
    "            x, y = pt\n",
    "            if self.grid[y][x] == '.':\n",
    "                todo.extend([(x + 1, y), (x - 1, y), (x, y + 1), (x, y - 1)])\n",
    "                yield pt\n",
    "\n",
    "\n",
    "    __repr__ = __str__\n",
    "\n",
    "\n",
    "class Goblin(Actor):\n",
    "    pass\n",
    "\n",
    "\n",
    "class Elf(Actor):\n",
    "    pass"
   ]
  },
  {
   "cell_type": "code",
   "execution_count": 425,
   "metadata": {},
   "outputs": [],
   "source": [
    "def parse(f):\n",
    "    grid = [list(line.rstrip()) for line in f]\n",
    "\n",
    "    actors = []\n",
    "    for y, row in enumerate(grid):\n",
    "        for x, block in enumerate(row):\n",
    "            if block in ('E', 'G'):\n",
    "                actors.append(Actor.fromcode(block, grid, x, y))\n",
    "\n",
    "    return actors, grid"
   ]
  },
  {
   "cell_type": "code",
   "execution_count": 426,
   "metadata": {},
   "outputs": [],
   "source": [
    "from io import StringIO\n",
    "f = StringIO('''#######\n",
    "#E..G.#\n",
    "#...#.#\n",
    "#.G.#G#\n",
    "#######''')"
   ]
  },
  {
   "cell_type": "code",
   "execution_count": 427,
   "metadata": {},
   "outputs": [],
   "source": [
    "actors, grid = parse(f)"
   ]
  },
  {
   "cell_type": "code",
   "execution_count": 428,
   "metadata": {},
   "outputs": [
    {
     "data": {
      "text/plain": [
       "[Elf(1, 1), Goblin(4, 1), Goblin(2, 3), Goblin(5, 3)]"
      ]
     },
     "execution_count": 428,
     "metadata": {},
     "output_type": "execute_result"
    }
   ],
   "source": [
    "actors"
   ]
  },
  {
   "cell_type": "code",
   "execution_count": 429,
   "metadata": {},
   "outputs": [
    {
     "data": {
      "text/plain": [
       "{(1, 2), (1, 3), (2, 1), (2, 2), (3, 1), (3, 2), (3, 3)}"
      ]
     },
     "execution_count": 429,
     "metadata": {},
     "output_type": "execute_result"
    }
   ],
   "source": [
    "set(actors[0].reachable)"
   ]
  },
  {
   "cell_type": "markdown",
   "metadata": {},
   "source": [
    "# Day 17"
   ]
  },
  {
   "cell_type": "code",
   "execution_count": 157,
   "metadata": {},
   "outputs": [],
   "source": [
    "import numpy as np\n",
    "\n",
    "def parse(f):\n",
    "    grid = np.zeros((2000, 2000), dtype=np.int32)\n",
    "    for line in f:\n",
    "        fixed, vein = line.split(',')\n",
    "        axis_fixed, val = fixed.split('=')\n",
    "        axis_vein, rng = vein.split('=')\n",
    "        start, end = map(int, rng.split('..'))\n",
    "        if axis_fixed == 'x':\n",
    "            grid[start:end + 1, int(val)] = 1\n",
    "        else:\n",
    "            grid[int(val), start:end + 1] = 1\n",
    "    return grid"
   ]
  },
  {
   "cell_type": "code",
   "execution_count": 158,
   "metadata": {},
   "outputs": [],
   "source": [
    "from io import StringIO\n",
    "f = StringIO('''x=495, y=2..7\n",
    "y=7, x=495..501\n",
    "x=501, y=3..7\n",
    "x=498, y=2..4\n",
    "x=506, y=1..2\n",
    "x=498, y=10..13\n",
    "x=504, y=10..13\n",
    "y=13, x=498..504''')\n",
    "grid = parse(f)"
   ]
  },
  {
   "cell_type": "code",
   "execution_count": 162,
   "metadata": {},
   "outputs": [
    {
     "name": "stdout",
     "output_type": "stream",
     "text": [
      "Object `nonzero` not found.\n"
     ]
    }
   ],
   "source": [
    "grid[0:, 500].nonzero?"
   ]
  },
  {
   "cell_type": "code",
   "execution_count": null,
   "metadata": {},
   "outputs": [],
   "source": [
    "grid[0:, 500].nonzero"
   ]
  },
  {
   "cell_type": "code",
   "execution_count": null,
   "metadata": {},
   "outputs": [],
   "source": [
    "def flow(grid, source=(0, 500)):\n",
    "    sources = [source]\n",
    "    while sources:\n",
    "        src = sources.pop()"
   ]
  },
  {
   "cell_type": "markdown",
   "metadata": {},
   "source": [
    "# Day 22"
   ]
  },
  {
   "cell_type": "code",
   "execution_count": 116,
   "metadata": {},
   "outputs": [],
   "source": [
    "from functools import lru_cache\n",
    "\n",
    "@lru_cache(100000)\n",
    "def risk_level(x, y, depth, target_loc):\n",
    "    return erosion_level(x, y, depth, target_loc) % 3\n",
    "\n",
    "@lru_cache(100000)\n",
    "def erosion_level(x, y, depth, target_loc):\n",
    "    return (geologic_index(x, y, depth, target_loc) + depth) % 20183\n",
    "\n",
    "@lru_cache(100000)\n",
    "def geologic_index(x, y, depth, target_loc):\n",
    "    if (x, y) == target_loc:\n",
    "        return 0\n",
    "    if x == 0:\n",
    "        return y * 48271\n",
    "    if y == 0:\n",
    "        return x * 16807\n",
    "    return erosion_level(x - 1, y, depth, target_loc) * erosion_level(x, y - 1, depth, target_loc)"
   ]
  },
  {
   "cell_type": "code",
   "execution_count": 117,
   "metadata": {},
   "outputs": [],
   "source": [
    "assert risk_level(0, 0, 510, (10, 10)) == 0\n",
    "assert risk_level(1, 0, 510, (10, 10)) == 1\n",
    "assert risk_level(0, 1, 510, (10, 10)) == 0\n",
    "assert risk_level(1, 1, 510, (10, 10)) == 2\n",
    "assert risk_level(10, 10, 510, (10, 10)) == 0"
   ]
  },
  {
   "cell_type": "code",
   "execution_count": 118,
   "metadata": {},
   "outputs": [],
   "source": [
    "def total_risk(depth, target):\n",
    "    return sum(risk_level(i, j, depth, target) for i in range(target[0] + 1) for j in range(target[1] + 1))"
   ]
  },
  {
   "cell_type": "code",
   "execution_count": 119,
   "metadata": {},
   "outputs": [],
   "source": [
    "target = (10, 10)\n",
    "depth = 510\n",
    "assert total_risk(depth, target) == 114"
   ]
  },
  {
   "cell_type": "code",
   "execution_count": 120,
   "metadata": {},
   "outputs": [
    {
     "name": "stdout",
     "output_type": "stream",
     "text": [
      "Part 1: 9940\n"
     ]
    }
   ],
   "source": [
    "target = (13, 704)\n",
    "depth = 9465\n",
    "print('Part 1:', total_risk(depth, target))"
   ]
  }
 ],
 "metadata": {
  "kernelspec": {
   "display_name": "py37",
   "language": "python",
   "name": "conda-env-py37-py"
  },
  "language_info": {
   "codemirror_mode": {
    "name": "ipython",
    "version": 3
   },
   "file_extension": ".py",
   "mimetype": "text/x-python",
   "name": "python",
   "nbconvert_exporter": "python",
   "pygments_lexer": "ipython3",
   "version": "3.7.8"
  }
 },
 "nbformat": 4,
 "nbformat_minor": 4
}
