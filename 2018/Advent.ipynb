{
 "cells": [
  {
   "cell_type": "markdown",
   "metadata": {},
   "source": [
    "# Day 15"
   ]
  },
  {
   "cell_type": "code",
   "execution_count": 424,
   "metadata": {},
   "outputs": [],
   "source": [
    "class Actor:\n",
    "    def __init__(self, grid, x, y):\n",
    "        self.grid = grid\n",
    "        self.x = x\n",
    "        self.y = y\n",
    "\n",
    "    def __str__(self):\n",
    "        return '{0}({1.x}, {1.y})'.format(type(self).__name__, self)\n",
    "\n",
    "    @staticmethod\n",
    "    def fromcode(code, grid, x, y):\n",
    "        if code == 'E':\n",
    "            return Elf(grid, x, y)\n",
    "        elif code == 'G':\n",
    "            return Goblin(grid, x, y)\n",
    "\n",
    "    def go(self):\n",
    "        pass\n",
    "    \n",
    "    def move(self):\n",
    "        pass\n",
    "\n",
    "    @property\n",
    "    def reachable(self):\n",
    "        todo = [(self.x + 1, self.y), (self.x - 1, self.y), (self.x, self.y + 1), (self.x, self.y - 1)]\n",
    "        visited = set()\n",
    "        while todo:\n",
    "            pt = todo.pop()\n",
    "            if pt in visited:\n",
    "                continue\n",
    "            visited.add(pt)\n",
    "            x, y = pt\n",
    "            if self.grid[y][x] == '.':\n",
    "                todo.extend([(x + 1, y), (x - 1, y), (x, y + 1), (x, y - 1)])\n",
    "                yield pt\n",
    "\n",
    "\n",
    "    __repr__ = __str__\n",
    "\n",
    "\n",
    "class Goblin(Actor):\n",
    "    pass\n",
    "\n",
    "\n",
    "class Elf(Actor):\n",
    "    pass"
   ]
  },
  {
   "cell_type": "code",
   "execution_count": 425,
   "metadata": {},
   "outputs": [],
   "source": [
    "def parse(f):\n",
    "    grid = [list(line.rstrip()) for line in f]\n",
    "\n",
    "    actors = []\n",
    "    for y, row in enumerate(grid):\n",
    "        for x, block in enumerate(row):\n",
    "            if block in ('E', 'G'):\n",
    "                actors.append(Actor.fromcode(block, grid, x, y))\n",
    "\n",
    "    return actors, grid"
   ]
  },
  {
   "cell_type": "code",
   "execution_count": 426,
   "metadata": {},
   "outputs": [],
   "source": [
    "from io import StringIO\n",
    "f = StringIO('''#######\n",
    "#E..G.#\n",
    "#...#.#\n",
    "#.G.#G#\n",
    "#######''')"
   ]
  },
  {
   "cell_type": "code",
   "execution_count": 427,
   "metadata": {},
   "outputs": [],
   "source": [
    "actors, grid = parse(f)"
   ]
  },
  {
   "cell_type": "code",
   "execution_count": 428,
   "metadata": {},
   "outputs": [
    {
     "data": {
      "text/plain": [
       "[Elf(1, 1), Goblin(4, 1), Goblin(2, 3), Goblin(5, 3)]"
      ]
     },
     "execution_count": 428,
     "metadata": {},
     "output_type": "execute_result"
    }
   ],
   "source": [
    "actors"
   ]
  },
  {
   "cell_type": "code",
   "execution_count": 429,
   "metadata": {},
   "outputs": [
    {
     "data": {
      "text/plain": [
       "{(1, 2), (1, 3), (2, 1), (2, 2), (3, 1), (3, 2), (3, 3)}"
      ]
     },
     "execution_count": 429,
     "metadata": {},
     "output_type": "execute_result"
    }
   ],
   "source": [
    "set(actors[0].reachable)"
   ]
  }
 ],
 "metadata": {
  "kernelspec": {
   "display_name": "aoc",
   "language": "python",
   "name": "conda-env-aoc-py"
  },
  "language_info": {
   "codemirror_mode": {
    "name": "ipython",
    "version": 3
   },
   "file_extension": ".py",
   "mimetype": "text/x-python",
   "name": "python",
   "nbconvert_exporter": "python",
   "pygments_lexer": "ipython3",
   "version": "3.10.0"
  }
 },
 "nbformat": 4,
 "nbformat_minor": 4
}
