{
 "cells": [
  {
   "cell_type": "markdown",
   "metadata": {},
   "source": [
    "# Advent of Code 2019\n",
    "https://adventofcode.com/2019"
   ]
  },
  {
   "cell_type": "markdown",
   "metadata": {},
   "source": [
    "## Day 1: The Tyranny of the Rocket Equation"
   ]
  },
  {
   "cell_type": "code",
   "execution_count": 1,
   "metadata": {},
   "outputs": [
    {
     "name": "stdout",
     "output_type": "stream",
     "text": [
      "Part 1: 3401852\n"
     ]
    }
   ],
   "source": [
    "with open('input1.txt', 'rt') as infile:\n",
    "    total = sum(int(l) // 3 - 2 for l in infile)\n",
    "\n",
    "print('Part 1:', total)"
   ]
  },
  {
   "cell_type": "markdown",
   "metadata": {},
   "source": [
    "With fuel as added mass:"
   ]
  },
  {
   "cell_type": "code",
   "execution_count": 2,
   "metadata": {},
   "outputs": [],
   "source": [
    "def total_fuel(mass):\n",
    "    total = 0\n",
    "    while mass:\n",
    "        mass = max(mass // 3 - 2, 0)\n",
    "        total += mass\n",
    "    return total"
   ]
  },
  {
   "cell_type": "code",
   "execution_count": 3,
   "metadata": {},
   "outputs": [],
   "source": [
    "assert total_fuel(14) == 2\n",
    "assert total_fuel(1969) == 966\n",
    "assert total_fuel(100756) == 50346"
   ]
  },
  {
   "cell_type": "code",
   "execution_count": 4,
   "metadata": {},
   "outputs": [
    {
     "name": "stdout",
     "output_type": "stream",
     "text": [
      "Part 2: 5099916\n"
     ]
    }
   ],
   "source": [
    "with open('input1.txt', 'rt') as infile:\n",
    "    total = sum(total_fuel(int(l)) for l in infile)\n",
    "print('Part 2:', total)"
   ]
  },
  {
   "cell_type": "markdown",
   "metadata": {},
   "source": [
    "## Day 2: 1202 Program Alarm"
   ]
  },
  {
   "cell_type": "code",
   "execution_count": 5,
   "metadata": {},
   "outputs": [],
   "source": [
    "def add(memory, r1, r2, r3):\n",
    "    memory[r3] = memory[r1] + memory[r2]\n",
    "\n",
    "def mul(memory, r1, r2, r3):\n",
    "    memory[r3] = memory[r1] * memory[r2]\n",
    "\n",
    "def halt(*a):\n",
    "    raise StopIteration\n",
    "    \n",
    "dispatch = {1: add, 2:mul, 99: halt}\n",
    "def run(program_memory):\n",
    "    i_ptr = 0\n",
    "    while i_ptr < len(program_memory):\n",
    "        opcode = program_memory[i_ptr]\n",
    "        try:\n",
    "            dispatch[opcode](program_memory, *program_memory[i_ptr + 1:i_ptr + 4])\n",
    "        except StopIteration:\n",
    "            break\n",
    "        i_ptr += 4\n",
    "    return program_memory"
   ]
  },
  {
   "cell_type": "code",
   "execution_count": 6,
   "metadata": {},
   "outputs": [],
   "source": [
    "assert run([1,9,10,3,2,3,11,0,99,30,40,50]) == [3500,9,10,70,2,3,11,0,99,30,40,50]"
   ]
  },
  {
   "cell_type": "code",
   "execution_count": 7,
   "metadata": {},
   "outputs": [],
   "source": [
    "assert run([1,0,0,0,99]) == [2,0,0,0,99]"
   ]
  },
  {
   "cell_type": "code",
   "execution_count": 8,
   "metadata": {},
   "outputs": [],
   "source": [
    "assert run([2,3,0,3,99]) == [2,3,0,6,99]"
   ]
  },
  {
   "cell_type": "code",
   "execution_count": 9,
   "metadata": {},
   "outputs": [],
   "source": [
    "assert run([2,4,4,5,99,0]) == [2,4,4,5,99,9801]"
   ]
  },
  {
   "cell_type": "code",
   "execution_count": 10,
   "metadata": {},
   "outputs": [],
   "source": [
    "assert run([1,1,1,4,99,5,6,0,99]) == [30,1,1,4,2,5,6,0,99]"
   ]
  },
  {
   "cell_type": "code",
   "execution_count": 11,
   "metadata": {},
   "outputs": [],
   "source": [
    "with open('input2.txt', 'rt') as infile:\n",
    "    codes = [int(c) for c in infile.readline().split(',')]"
   ]
  },
  {
   "cell_type": "code",
   "execution_count": 12,
   "metadata": {},
   "outputs": [
    {
     "name": "stdout",
     "output_type": "stream",
     "text": [
      "Part 1:  4138687\n"
     ]
    }
   ],
   "source": [
    "codes[1] = 12\n",
    "codes[2] = 2\n",
    "print('Part 1: ', run(codes)[0])"
   ]
  },
  {
   "cell_type": "code",
   "execution_count": 13,
   "metadata": {},
   "outputs": [
    {
     "name": "stdout",
     "output_type": "stream",
     "text": [
      "Part 2: 6635\n"
     ]
    }
   ],
   "source": [
    "with open('input2.txt', 'rt') as infile:\n",
    "    original_codes = [int(c) for c in infile.readline().split(',')]\n",
    "\n",
    "for noun in range(0, 100):\n",
    "    for verb in range(0, 100):\n",
    "        codes = original_codes.copy()\n",
    "        codes[1] = noun\n",
    "        codes[2] = verb\n",
    "        if run(codes)[0] == 19690720:\n",
    "            print('Part 2:', 100 * noun + verb)"
   ]
  },
  {
   "cell_type": "markdown",
   "metadata": {},
   "source": [
    "## Day 3: Crossed Wires"
   ]
  },
  {
   "cell_type": "code",
   "execution_count": 14,
   "metadata": {},
   "outputs": [],
   "source": [
    "def solve(line1, line2):\n",
    "    wire1 = make_paths(line1.split(','))\n",
    "    wire2 = make_paths(line2.split(','))\n",
    "    return min(abs(pt[0]) + abs(pt[1]) for pt in find_intersections(wire1, wire2))\n",
    "\n",
    "def find_intersections(wire1, wire2):\n",
    "    for seg1 in wire1:\n",
    "        for seg2 in wire2:\n",
    "            pt = intersects(seg1, seg2)\n",
    "            if pt is not None and pt != (0, 0):\n",
    "                yield pt\n",
    "\n",
    "def intersects(seg1, seg2):\n",
    "    direc1, fixed1, b0_1, b1_1, dist1 = seg1\n",
    "    direc2, fixed2, b0_2, b1_2, dist2 = seg2\n",
    "    if fixed1 == 0 and fixed2 == 0:\n",
    "        return\n",
    "\n",
    "    if (direc1 in ('L', 'R') and direc2 in ('L', 'R')) or (direc1 in ('U', 'D') and direc2 in ('U', 'D')):\n",
    "        if fixed1 == fixed2:\n",
    "            print('here!')\n",
    "    elif fixed1 >= b0_2 and fixed1 <= b1_2 and fixed2 >= b0_1 and fixed2 <= b1_1:\n",
    "        off1 = fixed1 - b0_2 if direc2 in ('U', 'R') else b1_2 - fixed1\n",
    "        off2 = fixed2 - b0_1 if direc1 in ('U', 'R') else b1_1 - fixed2\n",
    "        if direc1 in ('L', 'R'):\n",
    "            return fixed2, fixed1, dist1 + dist2 + off1 + off2\n",
    "        elif direc2 in ('L', 'R'):\n",
    "            return fixed1, fixed2, dist1 + dist2 + off1 + off2\n",
    "    \n",
    "def make_paths(moves):\n",
    "    cur_x = 0\n",
    "    cur_y = 0\n",
    "    paths = []\n",
    "    total = 0\n",
    "    for step in moves:\n",
    "        direc = step[0]\n",
    "        dist = int(step[1:])\n",
    "        next_x = cur_x\n",
    "        next_y = cur_y\n",
    "        if direc == 'L':\n",
    "            next_x -= dist\n",
    "            paths.append((direc, cur_y, min(cur_x, next_x), max(cur_x, next_x), total))\n",
    "        elif direc == 'R':\n",
    "            next_x += dist\n",
    "            paths.append((direc, cur_y, min(cur_x, next_x), max(cur_x, next_x), total))\n",
    "        elif direc == 'U':\n",
    "            next_y += dist\n",
    "            paths.append((direc, cur_x, min(cur_y, next_y), max(cur_y, next_y), total))\n",
    "        elif direc == 'D':\n",
    "            next_y -= dist\n",
    "            paths.append((direc, cur_x, min(cur_y, next_y), max(cur_y, next_y), total))\n",
    "        total += dist\n",
    "        cur_x, cur_y = next_x, next_y\n",
    "    return paths"
   ]
  },
  {
   "cell_type": "code",
   "execution_count": 15,
   "metadata": {},
   "outputs": [],
   "source": [
    "assert solve('R8,U5,L5,D3', 'U7,R6,D4,L4') == 6"
   ]
  },
  {
   "cell_type": "code",
   "execution_count": 16,
   "metadata": {},
   "outputs": [],
   "source": [
    "assert solve('R75,D30,R83,U83,L12,D49,R71,U7,L72', 'U62,R66,U55,R34,D71,R55,D58,R83') == 159"
   ]
  },
  {
   "cell_type": "code",
   "execution_count": 17,
   "metadata": {},
   "outputs": [],
   "source": [
    "assert solve('R98,U47,R26,D63,R33,U87,L62,D20,R33,U53,R51', 'U98,R91,D20,R16,D67,R40,U7,R15,U6,R7') == 135"
   ]
  },
  {
   "cell_type": "code",
   "execution_count": 18,
   "metadata": {},
   "outputs": [
    {
     "name": "stdout",
     "output_type": "stream",
     "text": [
      "Part1: 245\n"
     ]
    }
   ],
   "source": [
    "with open('input3.txt', 'rt') as infile:\n",
    "    print('Part1:', solve(infile.readline(), infile.readline()))"
   ]
  },
  {
   "cell_type": "markdown",
   "metadata": {},
   "source": [
    "Now part2:"
   ]
  },
  {
   "cell_type": "code",
   "execution_count": 19,
   "metadata": {},
   "outputs": [],
   "source": [
    "def solve2(line1, line2):\n",
    "    wire1 = make_paths(line1.split(','))\n",
    "    wire2 = make_paths(line2.split(','))\n",
    "    return min(pt[2] for pt in find_intersections(wire1, wire2))"
   ]
  },
  {
   "cell_type": "code",
   "execution_count": 20,
   "metadata": {},
   "outputs": [],
   "source": [
    "assert solve2('R8,U5,L5,D3', 'U7,R6,D4,L4') == 30"
   ]
  },
  {
   "cell_type": "code",
   "execution_count": 21,
   "metadata": {},
   "outputs": [],
   "source": [
    "assert solve2('R75,D30,R83,U83,L12,D49,R71,U7,L72', 'U62,R66,U55,R34,D71,R55,D58,R83') == 610"
   ]
  },
  {
   "cell_type": "code",
   "execution_count": 22,
   "metadata": {},
   "outputs": [],
   "source": [
    "assert solve2('R98,U47,R26,D63,R33,U87,L62,D20,R33,U53,R51', 'U98,R91,D20,R16,D67,R40,U7,R15,U6,R7') == 410"
   ]
  },
  {
   "cell_type": "code",
   "execution_count": 23,
   "metadata": {},
   "outputs": [
    {
     "name": "stdout",
     "output_type": "stream",
     "text": [
      "Part 2: 48262\n"
     ]
    }
   ],
   "source": [
    "with open('input3.txt', 'rt') as infile:\n",
    "    print('Part 2:', solve2(infile.readline(), infile.readline()))"
   ]
  },
  {
   "cell_type": "markdown",
   "metadata": {},
   "source": [
    "## Day 4: Secure Container"
   ]
  },
  {
   "cell_type": "code",
   "execution_count": 24,
   "metadata": {},
   "outputs": [],
   "source": [
    "def is_valid(pwd):\n",
    "    has_pair = False\n",
    "    for i,j in zip(pwd[:-1], pwd[1:]):\n",
    "        if j<i:\n",
    "            return False\n",
    "        has_pair |= (j == i)\n",
    "    return has_pair"
   ]
  },
  {
   "cell_type": "code",
   "execution_count": 25,
   "metadata": {},
   "outputs": [],
   "source": [
    "assert is_valid('111111')"
   ]
  },
  {
   "cell_type": "code",
   "execution_count": 26,
   "metadata": {},
   "outputs": [],
   "source": [
    "assert not is_valid('223450')"
   ]
  },
  {
   "cell_type": "code",
   "execution_count": 27,
   "metadata": {},
   "outputs": [],
   "source": [
    "assert not is_valid('123789')"
   ]
  },
  {
   "cell_type": "code",
   "execution_count": 28,
   "metadata": {},
   "outputs": [
    {
     "name": "stdout",
     "output_type": "stream",
     "text": [
      "Part 1: 1929\n"
     ]
    }
   ],
   "source": [
    "start = 134564\n",
    "end = 585159\n",
    "print('Part 1:', sum(is_valid(str(i)) for i in range(start, end + 1)))"
   ]
  },
  {
   "cell_type": "code",
   "execution_count": 29,
   "metadata": {},
   "outputs": [],
   "source": [
    "def is_valid2(pwd):\n",
    "    has_pair = False\n",
    "    for i in range(len(pwd) - 1):\n",
    "        if pwd[i + 1]<pwd[i]:\n",
    "            return False\n",
    "        test_val = (pwd[i] == pwd[i + 1])\n",
    "        if i > 0:\n",
    "            test_val &= pwd[i - 1] != pwd[i]\n",
    "        if i < len(pwd) - 2:\n",
    "            test_val &= (pwd[i + 1] != pwd[i + 2])\n",
    "        has_pair |= test_val\n",
    "    return has_pair"
   ]
  },
  {
   "cell_type": "code",
   "execution_count": 30,
   "metadata": {},
   "outputs": [],
   "source": [
    "assert is_valid2('112233')"
   ]
  },
  {
   "cell_type": "code",
   "execution_count": 31,
   "metadata": {},
   "outputs": [],
   "source": [
    "assert not is_valid2('123444')"
   ]
  },
  {
   "cell_type": "code",
   "execution_count": 32,
   "metadata": {},
   "outputs": [],
   "source": [
    "assert is_valid2('111122')"
   ]
  },
  {
   "cell_type": "code",
   "execution_count": 33,
   "metadata": {},
   "outputs": [
    {
     "name": "stdout",
     "output_type": "stream",
     "text": [
      "Part 2: 1306\n"
     ]
    }
   ],
   "source": [
    "print('Part 2:', sum(is_valid2(str(i)) for i in range(start, end + 1)))"
   ]
  },
  {
   "cell_type": "markdown",
   "metadata": {},
   "source": [
    "# Day 5: Sunny with a Chance of Asteroids"
   ]
  },
  {
   "cell_type": "code",
   "execution_count": 34,
   "metadata": {},
   "outputs": [],
   "source": [
    "from intcode import Computer"
   ]
  },
  {
   "cell_type": "code",
   "execution_count": 35,
   "metadata": {},
   "outputs": [],
   "source": [
    "c = Computer([1002,4,3,4,33])\n",
    "c.run()\n",
    "assert c.memory[4] == 99"
   ]
  },
  {
   "cell_type": "code",
   "execution_count": 36,
   "metadata": {},
   "outputs": [],
   "source": [
    "c = Computer([1101,100,-1,4,0])\n",
    "c.run()\n",
    "assert c.memory[4] == 99"
   ]
  },
  {
   "cell_type": "code",
   "execution_count": 37,
   "metadata": {},
   "outputs": [],
   "source": [
    "c = Computer([3,0,4,0,99])\n",
    "c.run([5])\n",
    "assert c.output[0] == 5"
   ]
  },
  {
   "cell_type": "code",
   "execution_count": 38,
   "metadata": {},
   "outputs": [
    {
     "name": "stdout",
     "output_type": "stream",
     "text": [
      "Part 1: [0, 0, 0, 0, 0, 0, 0, 0, 0, 7259358]\n"
     ]
    }
   ],
   "source": [
    "c = Computer.fromfile('input5.txt')\n",
    "c.run([1])\n",
    "print('Part 1:', c.output)"
   ]
  },
  {
   "cell_type": "markdown",
   "metadata": {},
   "source": [
    "Part 2:"
   ]
  },
  {
   "cell_type": "code",
   "execution_count": 39,
   "metadata": {},
   "outputs": [],
   "source": [
    "for indata, outdata in zip([1, 8, 9], [0, 1, 0]):\n",
    "    c = Computer([3,9,8,9,10,9,4,9,99,-1,8])\n",
    "    c.run([indata])\n",
    "    assert c.output == [outdata]"
   ]
  },
  {
   "cell_type": "code",
   "execution_count": 40,
   "metadata": {},
   "outputs": [],
   "source": [
    "for indata, outdata in zip([1, 8, 9], [1, 0, 0]):\n",
    "    c = Computer([3,9,7,9,10,9,4,9,99,-1,8])\n",
    "    c.run([indata])\n",
    "    assert c.output == [outdata]"
   ]
  },
  {
   "cell_type": "code",
   "execution_count": 41,
   "metadata": {},
   "outputs": [],
   "source": [
    "for indata, outdata in zip([1, 8, 9], [0, 1, 0]):\n",
    "    c = Computer([3,3,1108,-1,8,3,4,3,99])\n",
    "    c.run([indata])\n",
    "    assert c.output == [outdata]"
   ]
  },
  {
   "cell_type": "code",
   "execution_count": 42,
   "metadata": {},
   "outputs": [],
   "source": [
    "for indata, outdata in zip([1, 8, 9], [1, 0, 0]):\n",
    "    c = Computer([3,3,1107,-1,8,3,4,3,99])\n",
    "    c.run([indata])\n",
    "    assert c.output == [outdata]"
   ]
  },
  {
   "cell_type": "code",
   "execution_count": 43,
   "metadata": {},
   "outputs": [],
   "source": [
    "for indata, outdata in zip([0, 100], [0, 1]):\n",
    "    c = Computer([3,12,6,12,15,1,13,14,13,4,13,99,-1,0,1,9])\n",
    "    c.run([indata])\n",
    "    assert c.output == [outdata]"
   ]
  },
  {
   "cell_type": "code",
   "execution_count": 44,
   "metadata": {},
   "outputs": [],
   "source": [
    "for indata, outdata in zip([0, 100], [0, 1]):\n",
    "    c = Computer([3,3,1105,-1,9,1101,0,0,12,4,12,99,1])\n",
    "    c.run([indata])\n",
    "    assert c.output == [outdata]"
   ]
  },
  {
   "cell_type": "code",
   "execution_count": 45,
   "metadata": {},
   "outputs": [],
   "source": [
    "for indata, outdata in zip([7, 8, 9], [999, 1000, 1001]):\n",
    "    c = Computer([3,21,1008,21,8,20,1005,20,22,107,8,21,20,1006,20,31,\n",
    "                  1106,0,36,98,0,0,1002,21,125,20,4,20,1105,1,46,104,\n",
    "                  999,1105,1,46,1101,1000,1,20,4,20,1105,1,46,98,99])\n",
    "    c.run([indata])\n",
    "    assert c.output == [outdata]"
   ]
  },
  {
   "cell_type": "code",
   "execution_count": 46,
   "metadata": {},
   "outputs": [
    {
     "name": "stdout",
     "output_type": "stream",
     "text": [
      "Part 2: 11826654\n"
     ]
    }
   ],
   "source": [
    "c = Computer.fromfile('input5.txt')\n",
    "c.run([5])\n",
    "print('Part 2:', c.output[0])"
   ]
  },
  {
   "cell_type": "markdown",
   "metadata": {},
   "source": [
    "## Day 6: Universal Orbit Map"
   ]
  },
  {
   "cell_type": "code",
   "execution_count": 47,
   "metadata": {},
   "outputs": [],
   "source": [
    "def get_orbits(src):\n",
    "    orbits = {}\n",
    "    for line in src:\n",
    "        center, sat = line.strip().split(')')\n",
    "        orbits[sat] = center\n",
    "    return orbits\n",
    "\n",
    "\n",
    "def count_orbits(orbits, body):\n",
    "    total = 0\n",
    "    while (parent := orbits.get(body)) is not None:\n",
    "        total += 1\n",
    "        body = parent\n",
    "    return total\n",
    "    \n",
    "\n",
    "def count_total_orbits(orbits):\n",
    "    total = 0\n",
    "    for body in orbits:\n",
    "        total += count_orbits(orbits, body)\n",
    "    return total"
   ]
  },
  {
   "cell_type": "code",
   "execution_count": 48,
   "metadata": {},
   "outputs": [],
   "source": [
    "from io import StringIO\n",
    "o = get_orbits(StringIO('COM)B\\nB)C\\nC)D\\nD)E\\nE)F\\nB)G\\nG)H\\nD)I\\nE)J\\nJ)K\\nK)L'))\n",
    "\n",
    "assert count_orbits(o, 'D') == 3\n",
    "assert count_orbits(o, 'L') == 7\n",
    "assert count_orbits(o, 'COM') == 0\n",
    "assert count_total_orbits(o) == 42"
   ]
  },
  {
   "cell_type": "code",
   "execution_count": 49,
   "metadata": {},
   "outputs": [],
   "source": [
    "with open('input6.txt', 'rt') as infile:\n",
    "    orbits = get_orbits(infile)"
   ]
  },
  {
   "cell_type": "code",
   "execution_count": 50,
   "metadata": {},
   "outputs": [
    {
     "name": "stdout",
     "output_type": "stream",
     "text": [
      "Part 1: 358244\n"
     ]
    }
   ],
   "source": [
    "print('Part 1:', count_total_orbits(orbits))"
   ]
  },
  {
   "cell_type": "code",
   "execution_count": 51,
   "metadata": {},
   "outputs": [],
   "source": [
    "def find_path(orbits):\n",
    "    # Find the path for Santa to root node\n",
    "    path = ['SAN']\n",
    "    while path[-1] in orbits:\n",
    "        path.append(orbits[path[-1]])\n",
    "    \n",
    "    # Now find our path to root until we hit something in the first path\n",
    "    our_path = ['YOU']\n",
    "    while our_path[-1] in orbits and our_path[-1] not in path:\n",
    "        our_path.append(orbits[our_path[-1]])\n",
    "    \n",
    "    # Find index of intersection in first path for slicing\n",
    "    ind = path.index(our_path[-1])\n",
    "\n",
    "    # Start slices at 1 to eliminate us and Santa from path\n",
    "    return our_path[1:] + path[ind - 1:0:-1]\n",
    "\n",
    "def transfers(path):\n",
    "    return len(path) - 1"
   ]
  },
  {
   "cell_type": "code",
   "execution_count": 52,
   "metadata": {},
   "outputs": [],
   "source": [
    "o = get_orbits(StringIO('COM)B\\nB)C\\nC)D\\nD)E\\nE)F\\nB)G\\nG)H\\nD)I\\nE)J\\nJ)K\\nK)L\\nK)YOU\\nI)SAN'))"
   ]
  },
  {
   "cell_type": "code",
   "execution_count": 53,
   "metadata": {},
   "outputs": [],
   "source": [
    "assert transfers(find_path(o)) == 4"
   ]
  },
  {
   "cell_type": "code",
   "execution_count": 54,
   "metadata": {},
   "outputs": [
    {
     "name": "stdout",
     "output_type": "stream",
     "text": [
      "Part 2: 517\n"
     ]
    }
   ],
   "source": [
    "print('Part 2:', transfers(find_path(orbits)))"
   ]
  },
  {
   "cell_type": "markdown",
   "metadata": {},
   "source": [
    "## Day 7: Amplification Circuit"
   ]
  },
  {
   "cell_type": "code",
   "execution_count": 55,
   "metadata": {},
   "outputs": [],
   "source": [
    "import itertools\n",
    "\n",
    "def find_max_thrust(code):\n",
    "    max_thrust = 0\n",
    "    for phases in itertools.permutations(range(5), 5):\n",
    "        val = 0\n",
    "        for phase in phases:\n",
    "            c = Computer(code)\n",
    "            c.run([phase, val])\n",
    "            val = c.output[0]\n",
    "        if c.output[0] > max_thrust:\n",
    "            max_thrust = c.output[0]\n",
    "            best = phases\n",
    "    return best, max_thrust"
   ]
  },
  {
   "cell_type": "code",
   "execution_count": 56,
   "metadata": {},
   "outputs": [],
   "source": [
    "assert find_max_thrust([3,15,3,16,1002,16,10,16,1,16,15,15,4,15,99,0,0]) == ((4, 3, 2, 1, 0), 43210)"
   ]
  },
  {
   "cell_type": "code",
   "execution_count": 57,
   "metadata": {},
   "outputs": [],
   "source": [
    "assert (find_max_thrust([3,23,3,24,1002,24,10,24,1002,23,-1,23,101,5,23,23,1,24,23,23,4,23,99,0,0])\n",
    "        == ((0, 1, 2, 3, 4), 54321))"
   ]
  },
  {
   "cell_type": "code",
   "execution_count": 58,
   "metadata": {},
   "outputs": [],
   "source": [
    "assert (find_max_thrust([3,31,3,32,1002,32,10,32,1001,31,-2,31,1007,31,0,33,1002,33,7,33,1,33,31,31,1,32,31,31,4,31,99,0,0,0])\n",
    "        == ((1, 0, 4, 3, 2), 65210))"
   ]
  },
  {
   "cell_type": "code",
   "execution_count": 59,
   "metadata": {},
   "outputs": [],
   "source": [
    "with open('input7.txt', 'rt') as infile:\n",
    "    code = [int(c) for c in infile.readline().split(',')]"
   ]
  },
  {
   "cell_type": "code",
   "execution_count": 60,
   "metadata": {},
   "outputs": [
    {
     "name": "stdout",
     "output_type": "stream",
     "text": [
      "Part 1: 225056\n"
     ]
    }
   ],
   "source": [
    "_, mt = find_max_thrust(code)\n",
    "print('Part 1:', mt)"
   ]
  },
  {
   "cell_type": "code",
   "execution_count": 61,
   "metadata": {},
   "outputs": [],
   "source": [
    "def find_max_thrust_feedback(code):\n",
    "    max_thrust = 0\n",
    "    for phases in itertools.permutations(range(5, 10), 5):\n",
    "        amps = [Computer(code, id=i) for i in range(5)]\n",
    "        for i, (phase, amp) in enumerate(zip(phases, amps)):\n",
    "            amps[i-1].connect_sink(amp)\n",
    "            amp.send_input([phase])\n",
    "\n",
    "        amps[0].send_input([0])\n",
    "\n",
    "        while any(amp.running for amp in amps):\n",
    "            for amp in amps:\n",
    "                amp.run()\n",
    "\n",
    "        if amps[-1].output[0] > max_thrust:\n",
    "            max_thrust = amps[-1].output[0]\n",
    "            best = phases\n",
    "    return best, max_thrust"
   ]
  },
  {
   "cell_type": "code",
   "execution_count": 62,
   "metadata": {},
   "outputs": [],
   "source": [
    "assert (find_max_thrust_feedback([3,26,1001,26,-4,26,3,27,1002,27,2,27,1,27,26,27,4,27,1001,28,-1,28,1005,28,6,99,0,0,5])\n",
    "        == ((9, 8, 7, 6, 5), 139629729))"
   ]
  },
  {
   "cell_type": "code",
   "execution_count": 63,
   "metadata": {},
   "outputs": [],
   "source": [
    "assert (find_max_thrust_feedback([3,52,1001,52,-5,52,3,53,1,52,56,54,1007,54,5,55,1005,55,26,1001,54,\n",
    "                                  -5,54,1105,1,12,1,53,54,53,1008,54,0,55,1001,55,1,55,2,53,55,53,4,\n",
    "                                  53,1001,56,-1,56,1005,56,6,99,0,0,0,0,10])\n",
    "        == ((9, 7, 8, 5, 6), 18216))"
   ]
  },
  {
   "cell_type": "code",
   "execution_count": 64,
   "metadata": {},
   "outputs": [
    {
     "name": "stdout",
     "output_type": "stream",
     "text": [
      "Part 2: 14260332\n"
     ]
    }
   ],
   "source": [
    "_, mt = find_max_thrust_feedback(code)\n",
    "print('Part 2:', mt)"
   ]
  },
  {
   "cell_type": "markdown",
   "metadata": {},
   "source": [
    "## Day 8: Space Image Format"
   ]
  },
  {
   "cell_type": "code",
   "execution_count": 65,
   "metadata": {},
   "outputs": [],
   "source": [
    "with open('input8.txt', 'rt') as infile:\n",
    "    image_data = infile.read().strip()\n",
    "    \n",
    "layer_shape = (6, 25)\n",
    "BLACK = 0\n",
    "WHITE = 1\n",
    "TRANSPARENT = 2"
   ]
  },
  {
   "cell_type": "code",
   "execution_count": 66,
   "metadata": {},
   "outputs": [],
   "source": [
    "import numpy as np\n",
    "\n",
    "def chunk_iter(seq, size):\n",
    "    ind = 0\n",
    "    while ind < len(seq):\n",
    "        yield seq[ind:ind + size]\n",
    "        ind += size\n",
    "\n",
    "def iter_layers(data, shape):\n",
    "    rows, cols = shape\n",
    "    for layer in chunk_iter(data, rows * cols):\n",
    "        yield np.array([int(c) for c in layer]).reshape(*shape)"
   ]
  },
  {
   "cell_type": "code",
   "execution_count": 67,
   "metadata": {},
   "outputs": [],
   "source": [
    "min_zero = layer_shape[0] * layer_shape[1]\n",
    "for layer in iter_layers(image_data, layer_shape):\n",
    "    num_zeros = (layer == 0).sum()\n",
    "    if num_zeros < min_zero:\n",
    "        min_zero = num_zeros\n",
    "        min_layer = layer"
   ]
  },
  {
   "cell_type": "code",
   "execution_count": 68,
   "metadata": {},
   "outputs": [
    {
     "name": "stdout",
     "output_type": "stream",
     "text": [
      "Part 1: 2064\n"
     ]
    }
   ],
   "source": [
    "print('Part 1:', (min_layer == 2).sum() * (min_layer == 1).sum())"
   ]
  },
  {
   "cell_type": "code",
   "execution_count": 69,
   "metadata": {},
   "outputs": [],
   "source": [
    "image = np.full(layer_shape, TRANSPARENT, dtype=np.int)\n",
    "for layer in iter_layers(image_data, layer_shape):\n",
    "    mask = image == TRANSPARENT\n",
    "    image[mask] = layer[mask]"
   ]
  },
  {
   "cell_type": "code",
   "execution_count": 70,
   "metadata": {},
   "outputs": [
    {
     "data": {
      "text/plain": [
       "<matplotlib.image.AxesImage at 0x12023bb80>"
      ]
     },
     "execution_count": 70,
     "metadata": {},
     "output_type": "execute_result"
    },
    {
     "data": {
      "image/png": "[encoded data removed]",
      "text/plain": [
       "<Figure size 432x288 with 1 Axes>"
      ]
     },
     "metadata": {
      "needs_background": "light"
     },
     "output_type": "display_data"
    }
   ],
   "source": [
    "import matplotlib.pyplot as plt\n",
    "plt.imshow(image)"
   ]
  },
  {
   "cell_type": "code",
   "execution_count": 71,
   "metadata": {},
   "outputs": [
    {
     "name": "stdout",
     "output_type": "stream",
     "text": [
      "Part 2:\n",
      "#  #  ##  #  # ####  ##  \n",
      "# #  #  # #  #    # #  # \n",
      "##   #  # #  #   #  #  # \n",
      "# #  #### #  #  #   #### \n",
      "# #  #  # #  # #    #  # \n",
      "#  # #  #  ##  #### #  # \n"
     ]
    }
   ],
   "source": [
    "render = '\\n'.join(''.join('#' if item == WHITE else ' ' for item in row) for row in image)\n",
    "print('Part 2:', render, sep='\\n')"
   ]
  },
  {
   "cell_type": "markdown",
   "metadata": {},
   "source": [
    "## Day 9: Sensor Boost"
   ]
  },
  {
   "cell_type": "code",
   "execution_count": 72,
   "metadata": {},
   "outputs": [],
   "source": [
    "from intcode import Computer"
   ]
  },
  {
   "cell_type": "code",
   "execution_count": 73,
   "metadata": {},
   "outputs": [],
   "source": [
    "start_code = [109,1,204,-1,1001,100,1,100,1008,100,16,101,1006,101,0,99]\n",
    "c = Computer(start_code)\n",
    "c.run()\n",
    "assert c.output == start_code"
   ]
  },
  {
   "cell_type": "code",
   "execution_count": 74,
   "metadata": {},
   "outputs": [],
   "source": [
    "c = Computer([1102,34915192,34915192,7,4,7,99,0])\n",
    "c.run()\n",
    "assert len(str(c.output[0])) == 16"
   ]
  },
  {
   "cell_type": "code",
   "execution_count": 75,
   "metadata": {},
   "outputs": [],
   "source": [
    "c = Computer([104,1125899906842624,99])\n",
    "c.run()\n",
    "assert c.output == [1125899906842624]"
   ]
  },
  {
   "cell_type": "code",
   "execution_count": 76,
   "metadata": {},
   "outputs": [
    {
     "name": "stdout",
     "output_type": "stream",
     "text": [
      "Part 1: [3839402290]\n"
     ]
    }
   ],
   "source": [
    "c = Computer.fromfile('input9.txt')\n",
    "c.run([1])\n",
    "print('Part 1:', c.output)"
   ]
  },
  {
   "cell_type": "code",
   "execution_count": 77,
   "metadata": {},
   "outputs": [
    {
     "name": "stdout",
     "output_type": "stream",
     "text": [
      "Part 2: [35734]\n"
     ]
    }
   ],
   "source": [
    "c = Computer.fromfile('input9.txt')\n",
    "c.run([2])\n",
    "print('Part 2:', c.output)"
   ]
  },
  {
   "cell_type": "markdown",
   "metadata": {},
   "source": [
    "## Day 10: Monitoring Station"
   ]
  },
  {
   "cell_type": "code",
   "execution_count": 78,
   "metadata": {},
   "outputs": [],
   "source": [
    "def read_asteroids(fobj):\n",
    "    return [(col, row)\n",
    "            for row, line in enumerate(fobj)\n",
    "            for col, c in enumerate(line.strip())\n",
    "            if c == '#']"
   ]
  },
  {
   "cell_type": "code",
   "execution_count": 79,
   "metadata": {},
   "outputs": [],
   "source": [
    "from functools import lru_cache\n",
    "\n",
    "def gcd(x, y):\n",
    "    while y != 0:\n",
    "        x, y = y, x % y\n",
    "    return x\n",
    "\n",
    "def get_direction(x, y):\n",
    "    div = gcd(abs(x), abs(y))\n",
    "    return x // div, y // div\n",
    "\n",
    "def count_options(loc, asteroids):\n",
    "    return len({get_direction(a[0] - loc[0], a[1] - loc[1]) for a in asteroids if a != loc})\n",
    "\n",
    "def find_max_options(asteroids):\n",
    "    return max((count_options(location, asteroids), location) for location in asteroids)"
   ]
  },
  {
   "cell_type": "code",
   "execution_count": 80,
   "metadata": {},
   "outputs": [],
   "source": [
    "from io import StringIO\n",
    "f = StringIO('.#..#\\n.....\\n#####\\n....#\\n...##')\n",
    "t = read_asteroids(f)"
   ]
  },
  {
   "cell_type": "code",
   "execution_count": 81,
   "metadata": {},
   "outputs": [],
   "source": [
    "assert [count_options(p, t) for p in t] == [7, 7, 6, 7, 7, 7, 5, 7, 8, 7]"
   ]
  },
  {
   "cell_type": "code",
   "execution_count": 82,
   "metadata": {},
   "outputs": [],
   "source": [
    "assert find_max_options(t) == (8, (3, 4))"
   ]
  },
  {
   "cell_type": "code",
   "execution_count": 83,
   "metadata": {},
   "outputs": [],
   "source": [
    "f = StringIO('''......#.#.\n",
    "#..#.#....\n",
    "..#######.\n",
    ".#.#.###..\n",
    ".#..#.....\n",
    "..#....#.#\n",
    "#..#....#.\n",
    ".##.#..###\n",
    "##...#..#.\n",
    ".#....####''')\n",
    "t = read_asteroids(f)\n",
    "assert find_max_options(t) == (33, (5, 8))"
   ]
  },
  {
   "cell_type": "code",
   "execution_count": 84,
   "metadata": {},
   "outputs": [],
   "source": [
    "f = StringIO('''#.#...#.#.\n",
    ".###....#.\n",
    ".#....#...\n",
    "##.#.#.#.#\n",
    "....#.#.#.\n",
    ".##..###.#\n",
    "..#...##..\n",
    "..##....##\n",
    "......#...\n",
    ".####.###.''')\n",
    "t = read_asteroids(f)\n",
    "assert find_max_options(t) == (35, (1, 2))"
   ]
  },
  {
   "cell_type": "code",
   "execution_count": 85,
   "metadata": {},
   "outputs": [],
   "source": [
    "f = StringIO('''.#..#..###\n",
    "####.###.#\n",
    "....###.#.\n",
    "..###.##.#\n",
    "##.##.#.#.\n",
    "....###..#\n",
    "..#.#..#.#\n",
    "#..#.#.###\n",
    ".##...##.#\n",
    ".....#.#..''')\n",
    "t = read_asteroids(f)\n",
    "assert find_max_options(t) == (41, (6, 3))"
   ]
  },
  {
   "cell_type": "code",
   "execution_count": 86,
   "metadata": {},
   "outputs": [],
   "source": [
    "f = StringIO('''.#..##.###...#######\n",
    "##.############..##.\n",
    ".#.######.########.#\n",
    ".###.#######.####.#.\n",
    "#####.##.#.##.###.##\n",
    "..#####..#.#########\n",
    "####################\n",
    "#.####....###.#.#.##\n",
    "##.#################\n",
    "#####.##.###..####..\n",
    "..######..##.#######\n",
    "####.##.####...##..#\n",
    ".#####..#.######.###\n",
    "##...#.##########...\n",
    "#.##########.#######\n",
    ".####.#.###.###.#.##\n",
    "....##.##.###..#####\n",
    ".#.#.###########.###\n",
    "#.#.#.#####.####.###\n",
    "###.##.####.##.#..##''')\n",
    "t = read_asteroids(f)\n",
    "assert find_max_options(t) == (210, (11, 13))"
   ]
  },
  {
   "cell_type": "code",
   "execution_count": 87,
   "metadata": {},
   "outputs": [
    {
     "name": "stdout",
     "output_type": "stream",
     "text": [
      "Part 1: 340\n"
     ]
    }
   ],
   "source": [
    "with open('input10.txt', 'rt') as infile:\n",
    "    a = read_asteroids(infile)\n",
    "    best, loc = find_max_options(a)\n",
    "print('Part 1:', best)"
   ]
  },
  {
   "cell_type": "code",
   "execution_count": 88,
   "metadata": {},
   "outputs": [],
   "source": [
    "import numpy as np\n",
    "\n",
    "def order_by_angles(asteroids, loc):\n",
    "    orig_pts = np.array(asteroids).T\n",
    "    pts = np.array([[1], [-1]]) * (orig_pts - np.array(loc)[:, None])\n",
    "    dist = np.abs(pts).sum(axis=0)\n",
    "    sorter = np.argsort(dist, kind='stable')\n",
    "\n",
    "    orig_pts = orig_pts[np.array([[0], [1]]), sorter]\n",
    "    pts = pts[np.array([[0], [1]]), sorter]\n",
    "\n",
    "    angles = np.pi / 2 - np.arctan2(pts[1], pts[0])\n",
    "    angles[angles < 0] += 2 * np.pi\n",
    "\n",
    "    sorter = np.argsort(angles, kind='stable')\n",
    "    angles = angles[sorter]\n",
    "    orig_pts = orig_pts[np.array([[0], [1]]), sorter]\n",
    "    pts = pts[np.array([[0], [1]]), sorter]\n",
    "\n",
    "    prev = -999\n",
    "    num = 0\n",
    "    for i, a in enumerate(angles):\n",
    "        if np.fabs(a - prev) < 1e-4:\n",
    "            num += 1\n",
    "            angles[i] += num * (2 * np.pi)\n",
    "        else:\n",
    "            num = 0\n",
    "            prev = a\n",
    "\n",
    "    sorter = np.argsort(angles, kind='stable')\n",
    "    angles = angles[sorter]\n",
    "    return orig_pts[np.array([[0], [1]]), sorter]"
   ]
  },
  {
   "cell_type": "code",
   "execution_count": 89,
   "metadata": {},
   "outputs": [],
   "source": [
    "f = StringIO('''.#..##.###...#######\n",
    "##.############..##.\n",
    ".#.######.########.#\n",
    ".###.#######.####.#.\n",
    "#####.##.#.##.###.##\n",
    "..#####..#.#########\n",
    "####################\n",
    "#.####....###.#.#.##\n",
    "##.#################\n",
    "#####.##.###..####..\n",
    "..######..##.#######\n",
    "####.##.####...##..#\n",
    ".#####..#.######.###\n",
    "##...#.##########...\n",
    "#.##########.#######\n",
    ".####.#.###.###.#.##\n",
    "....##.##.###..#####\n",
    ".#.#.###########.###\n",
    "#.#.#.#####.####.###\n",
    "###.##.####.##.#..##''')\n",
    "t = read_asteroids(f)\n",
    "assert tuple(order_by_angles(t, (11, 13))[:, 199]) == (8, 2)"
   ]
  },
  {
   "cell_type": "code",
   "execution_count": 90,
   "metadata": {},
   "outputs": [
    {
     "name": "stdout",
     "output_type": "stream",
     "text": [
      "Part 2: 2628\n"
     ]
    }
   ],
   "source": [
    "pt = order_by_angles(a, loc)[:, 199]\n",
    "print('Part 2:', 100 * pt[0] + pt[1])"
   ]
  },
  {
   "cell_type": "markdown",
   "metadata": {},
   "source": [
    "## Day 11: Space Police"
   ]
  },
  {
   "cell_type": "code",
   "execution_count": 91,
   "metadata": {},
   "outputs": [],
   "source": [
    "from geom import Point, Vector\n",
    "\n",
    "def paint(start=0):\n",
    "    c = Computer.fromfile('input11.txt')\n",
    "\n",
    "    loc = Point(0, 0)\n",
    "    direc = Vector(0, 1, 0)\n",
    "    panels = {loc:start}\n",
    "    while c.running:\n",
    "        c.run([panels.get(loc, 0)])\n",
    "        turn = c.output.pop()\n",
    "        color = c.output.pop()\n",
    "        panels[loc] = color\n",
    "\n",
    "        if turn == 0: # Turn left\n",
    "            direc = Vector.k().cross(direc)\n",
    "        elif turn == 1: # Turn right\n",
    "            direc = direc.cross(Vector.k())\n",
    "\n",
    "        loc += direc\n",
    "    return panels"
   ]
  },
  {
   "cell_type": "code",
   "execution_count": 92,
   "metadata": {},
   "outputs": [
    {
     "name": "stdout",
     "output_type": "stream",
     "text": [
      "Part 1: 2883\n"
     ]
    }
   ],
   "source": [
    "print('Part 1:', len(paint()))"
   ]
  },
  {
   "cell_type": "code",
   "execution_count": 93,
   "metadata": {},
   "outputs": [
    {
     "data": {
      "text/plain": [
       "(-15, 15)"
      ]
     },
     "execution_count": 93,
     "metadata": {},
     "output_type": "execute_result"
    },
    {
     "data": {
      "image/png": "[encoded data removed]",
      "text/plain": [
       "<Figure size 432x288 with 1 Axes>"
      ]
     },
     "metadata": {
      "needs_background": "light"
     },
     "output_type": "display_data"
    }
   ],
   "source": [
    "fig, ax = plt.subplots()\n",
    "for (x, y), val in paint(start=1).items():\n",
    "    if val == 1:\n",
    "        ax.plot(x, y, 'ks')\n",
    "ax.set_ylim(-15, 15)"
   ]
  },
  {
   "cell_type": "markdown",
   "metadata": {},
   "source": [
    "## Part 12: The N-Body Problem"
   ]
  },
  {
   "cell_type": "code",
   "execution_count": 94,
   "metadata": {},
   "outputs": [],
   "source": [
    "import copy\n",
    "import numpy as np\n",
    "\n",
    "class Moon:\n",
    "    def __init__(self, x, y, z, vel=None):\n",
    "        self.pos = np.array([x, y, z])\n",
    "        if vel is None:\n",
    "            vel = (0, 0, 0)\n",
    "        self.vel = np.array(vel)\n",
    "\n",
    "    @classmethod\n",
    "    def fromstring(cls, s):\n",
    "        parts = s.strip().split(',')\n",
    "        return cls(int(parts[0].split('=')[-1]),\n",
    "                   int(parts[1].split('=')[-1]),\n",
    "                   int(parts[2].split('=')[-1][:-1]))\n",
    "\n",
    "    def __str__(self):\n",
    "        return (f'pos=<x={self.pos[0]}, y={self.pos[1]}, z={self.pos[2]}>, ' +\n",
    "                f'vel=<x={self.vel[0]}, y={self.vel[1]}, z={self.vel[2]}>')\n",
    "\n",
    "    def __repr__(self):\n",
    "        return f'{type(self).__name__}({self.pos[0]}, {self.pos[1]}, {self.pos[2]})'\n",
    "\n",
    "    def gravity(self, other):\n",
    "        diff = other.pos - self.pos\n",
    "        self.vel += np.sign(diff)\n",
    "        other.vel -= np.sign(diff)\n",
    "\n",
    "    def move(self):\n",
    "        self.pos += self.vel\n",
    "\n",
    "    def __eq__(self, other):\n",
    "        return (self.pos == other.pos).all() and (self.vel == other.vel).all()\n",
    "\n",
    "    @property\n",
    "    def total_energy(self):\n",
    "        return self.potential_energy * self.kinetic_energy\n",
    "\n",
    "    @property\n",
    "    def potential_energy(self):\n",
    "        return np.abs(self.pos).sum()\n",
    "\n",
    "    @property\n",
    "    def kinetic_energy(self):\n",
    "        return np.abs(self.vel).sum()\n",
    "\n",
    "    def __copy__(self):\n",
    "        return type(self)(*self.pos, np.array(self.vel))\n",
    "\n",
    "def parse(fobj):\n",
    "    for line in fobj:\n",
    "        yield Moon.fromstring(line)\n",
    "\n",
    "def run(moons, n):\n",
    "    for i in range(n):\n",
    "        _step(moons)\n",
    "\n",
    "def run_to_repeat(moons):\n",
    "    orig_moons = copy.deepcopy(moons)\n",
    "    steps = [0] * 3\n",
    "    cycled = [False] * 3\n",
    "    while not all(cycled):\n",
    "        _step(moons)\n",
    "        for ind, status in enumerate(cycled):\n",
    "            if not status:\n",
    "                steps[ind] += 1\n",
    "                if all(moon.pos[ind] == orig.pos[ind] and moon.vel[ind] == 0 for orig, moon in zip(orig_moons, moons)):\n",
    "                    cycled[ind] = True\n",
    "    return steps\n",
    "\n",
    "def find_cycle_count(moons):\n",
    "    xc, yc, zc = run_to_repeat(moons)\n",
    "    tmp = (xc * yc) // gcd(xc, yc)\n",
    "    return (tmp * zc) // gcd(tmp, zc)\n",
    "\n",
    "def _step(moons):\n",
    "    for m1, m2 in itertools.combinations(moons, 2):\n",
    "        m1.gravity(m2)\n",
    "\n",
    "    for m in moons:\n",
    "        m.move()"
   ]
  },
  {
   "cell_type": "code",
   "execution_count": 95,
   "metadata": {},
   "outputs": [],
   "source": [
    "moons = list(parse(StringIO('''<x=-1, y=0, z=2>\n",
    "<x=2, y=-10, z=-7>\n",
    "<x=4, y=-8, z=8>\n",
    "<x=3, y=5, z=-1>''')))\n",
    "run(moons, 10)\n",
    "\n",
    "assert moons[0] == Moon(2, 1, -3, (-3, -2, 1))\n",
    "assert moons[1] == Moon(1, -8, 0, (-1, 1, 3))\n",
    "assert moons[2] == Moon(3, -6, 1, (3, 2, -3))\n",
    "assert moons[3] == Moon(2, 0, 4, (1, -1, -1))\n",
    "assert sum(m.total_energy for m in moons) == 179"
   ]
  },
  {
   "cell_type": "code",
   "execution_count": 96,
   "metadata": {},
   "outputs": [],
   "source": [
    "moons = list(parse(StringIO('''<x=-8, y=-10, z=0>\n",
    "<x=5, y=5, z=10>\n",
    "<x=2, y=-7, z=3>\n",
    "<x=9, y=-8, z=-3>''')))\n",
    "run(moons, 100)\n",
    "\n",
    "assert moons[0] == Moon(8, -12, -9, (-7, 3, 0))\n",
    "assert moons[1] == Moon(13, 16, -3, (3, -11, -5))\n",
    "assert moons[2] == Moon(-29, -11, -1, (-3, 7, 4))\n",
    "assert moons[3] == Moon(16, -13, 23, (7, 1, 1))\n",
    "assert sum(m.total_energy for m in moons) == 1940"
   ]
  },
  {
   "cell_type": "code",
   "execution_count": 97,
   "metadata": {},
   "outputs": [
    {
     "name": "stdout",
     "output_type": "stream",
     "text": [
      "Part 1: 9127\n"
     ]
    }
   ],
   "source": [
    "with open('input12.txt', 'rt') as infile:\n",
    "    moons = list(parse(infile))\n",
    "run(moons, 1000)\n",
    "print('Part 1:', sum(m.total_energy for m in moons))"
   ]
  },
  {
   "cell_type": "code",
   "execution_count": 98,
   "metadata": {},
   "outputs": [],
   "source": [
    "moons = list(parse(StringIO('''<x=-1, y=0, z=2>\n",
    "<x=2, y=-10, z=-7>\n",
    "<x=4, y=-8, z=8>\n",
    "<x=3, y=5, z=-1>''')))\n",
    "assert find_cycle_count(moons) == 2772"
   ]
  },
  {
   "cell_type": "code",
   "execution_count": 99,
   "metadata": {},
   "outputs": [],
   "source": [
    "moons = list(parse(StringIO('''<x=-8, y=-10, z=0>\n",
    "<x=5, y=5, z=10>\n",
    "<x=2, y=-7, z=3>\n",
    "<x=9, y=-8, z=-3>''')))\n",
    "assert find_cycle_count(moons) == 4686774924"
   ]
  },
  {
   "cell_type": "code",
   "execution_count": 100,
   "metadata": {},
   "outputs": [
    {
     "name": "stdout",
     "output_type": "stream",
     "text": [
      "Part 2: 353620566035124\n"
     ]
    }
   ],
   "source": [
    "with open('input12.txt', 'rt') as infile:\n",
    "    moons = list(parse(infile))\n",
    "print('Part 2:', find_cycle_count(moons))"
   ]
  },
  {
   "cell_type": "markdown",
   "metadata": {},
   "source": [
    "## Day 13: Care Package"
   ]
  },
  {
   "cell_type": "code",
   "execution_count": 101,
   "metadata": {},
   "outputs": [
    {
     "name": "stdout",
     "output_type": "stream",
     "text": [
      "Part 1: 268\n"
     ]
    }
   ],
   "source": [
    "from intcode import Computer\n",
    "c = Computer.fromfile('input13.txt')\n",
    "c.run()\n",
    "\n",
    "print('Part 1:', sum(1 for *_, t in chunk_iter(c.output, 3) if t == 2))"
   ]
  },
  {
   "cell_type": "code",
   "execution_count": 102,
   "metadata": {},
   "outputs": [],
   "source": [
    "c = Computer.fromfile('input13.txt')\n",
    "\n",
    "# Insert 2 quarters\n",
    "c.memory[0] = 2\n",
    "\n",
    "board = np.zeros((42, 26))\n",
    "score = 0\n",
    "ball_x = 0\n",
    "paddle_x = 0\n",
    "while c.running:\n",
    "    c.run([np.sign(ball_x - paddle_x)])\n",
    "    for x, y, t in chunk_iter(c.output, 3):\n",
    "        if x == -1 and y == 0:\n",
    "            score = t\n",
    "        else:\n",
    "            board[x, y] = t\n",
    "            if t == 3:\n",
    "                paddle_x = x\n",
    "            elif t == 4: \n",
    "                ball_x = x\n",
    "    # Clear the output back out\n",
    "    c.output = []"
   ]
  },
  {
   "cell_type": "code",
   "execution_count": 103,
   "metadata": {},
   "outputs": [
    {
     "name": "stdout",
     "output_type": "stream",
     "text": [
      "Part 2: 13989\n"
     ]
    },
    {
     "data": {
      "image/png": "[encoded data removed]",
      "text/plain": [
       "<Figure size 432x288 with 1 Axes>"
      ]
     },
     "metadata": {
      "needs_background": "light"
     },
     "output_type": "display_data"
    }
   ],
   "source": [
    "import matplotlib.pyplot as plt\n",
    "plt.imshow(board.T, origin='upper')\n",
    "print('Part 2:', score)"
   ]
  },
  {
   "cell_type": "markdown",
   "metadata": {},
   "source": [
    "## Day 14: Space Stoichiometry"
   ]
  },
  {
   "cell_type": "code",
   "execution_count": 104,
   "metadata": {},
   "outputs": [],
   "source": [
    "from collections import Counter\n",
    "\n",
    "class Creator:\n",
    "    def __init__(self, recipes):\n",
    "        self.recipes = recipes\n",
    "        self.inventory = Counter()\n",
    "\n",
    "    @classmethod\n",
    "    def fromfile(cls, fobj):\n",
    "        recipes = {}\n",
    "        for line in fobj:\n",
    "            ingred, output = line.strip().split(' => ')\n",
    "            out_count, out = output.split()\n",
    "            inp = [((parts := i.split())[1], int(parts[0])) for i in ingred.split(', ')]\n",
    "            recipes[out] = [int(out_count)] + inp\n",
    "        return cls(recipes)\n",
    "\n",
    "    def make(self, item, count):\n",
    "        ore_count = 0\n",
    "\n",
    "        prod_count, *ingreds = self.recipes[item]\n",
    "        mult = count // prod_count + (count % prod_count > 0)\n",
    "\n",
    "        for ingred, num in ingreds:\n",
    "            if ingred == 'ORE':\n",
    "                ore_count += mult * num\n",
    "            else:\n",
    "                if self.inventory[ingred] < mult * num:\n",
    "                    ore_count += self.make(ingred, mult * num - self.inventory[ingred])\n",
    "                self.inventory[ingred] -= mult * num\n",
    "\n",
    "        self.inventory[item] += mult * prod_count\n",
    "        \n",
    "        return ore_count\n",
    "\n",
    "    def max_for_ore(self, item, limit=1000000000000):\n",
    "        lower = 1\n",
    "        upper = limit\n",
    "        guess = limit // c.make(item, 1) * 2\n",
    "        while upper - lower > 1:\n",
    "#            print(lower, upper, guess)\n",
    "            ore = c.make(item, guess)\n",
    "            if ore > limit:\n",
    "                upper = guess\n",
    "            elif ore < limit:\n",
    "                lower = guess\n",
    "            else:\n",
    "                return guess\n",
    "            guess = (lower + upper) // 2\n",
    "        return lower"
   ]
  },
  {
   "cell_type": "code",
   "execution_count": 105,
   "metadata": {},
   "outputs": [],
   "source": [
    "c = Creator.fromfile(StringIO(\"\"\"10 ORE => 10 A\n",
    "1 ORE => 1 B\n",
    "7 A, 1 B => 1 C\n",
    "7 A, 1 C => 1 D\n",
    "7 A, 1 D => 1 E\n",
    "7 A, 1 E => 1 FUEL\"\"\"))\n",
    "assert c.make('FUEL', 1) == 31"
   ]
  },
  {
   "cell_type": "code",
   "execution_count": 106,
   "metadata": {},
   "outputs": [],
   "source": [
    "c = Creator.fromfile(StringIO(\"\"\"9 ORE => 2 A\n",
    "8 ORE => 3 B\n",
    "7 ORE => 5 C\n",
    "3 A, 4 B => 1 AB\n",
    "5 B, 7 C => 1 BC\n",
    "4 C, 1 A => 1 CA\n",
    "2 AB, 3 BC, 4 CA => 1 FUEL\"\"\"))\n",
    "assert c.make('FUEL', 1) == 165"
   ]
  },
  {
   "cell_type": "code",
   "execution_count": 107,
   "metadata": {},
   "outputs": [],
   "source": [
    "c = Creator.fromfile(StringIO(\"\"\"157 ORE => 5 NZVS\n",
    "165 ORE => 6 DCFZ\n",
    "44 XJWVT, 5 KHKGT, 1 QDVJ, 29 NZVS, 9 GPVTF, 48 HKGWZ => 1 FUEL\n",
    "12 HKGWZ, 1 GPVTF, 8 PSHF => 9 QDVJ\n",
    "179 ORE => 7 PSHF\n",
    "177 ORE => 5 HKGWZ\n",
    "7 DCFZ, 7 PSHF => 2 XJWVT\n",
    "165 ORE => 2 GPVTF\n",
    "3 DCFZ, 7 NZVS, 5 HKGWZ, 10 PSHF => 8 KHKGT\"\"\"))\n",
    "assert c.make('FUEL', 1) == 13312\n",
    "assert c.max_for_ore('FUEL') == 82892753"
   ]
  },
  {
   "cell_type": "code",
   "execution_count": 108,
   "metadata": {},
   "outputs": [],
   "source": [
    "c = Creator.fromfile(StringIO(\"\"\"2 VPVL, 7 FWMGM, 2 CXFTF, 11 MNCFX => 1 STKFG\n",
    "17 NVRVD, 3 JNWZP => 8 VPVL\n",
    "53 STKFG, 6 MNCFX, 46 VJHF, 81 HVMC, 68 CXFTF, 25 GNMV => 1 FUEL\n",
    "22 VJHF, 37 MNCFX => 5 FWMGM\n",
    "139 ORE => 4 NVRVD\n",
    "144 ORE => 7 JNWZP\n",
    "5 MNCFX, 7 RFSQX, 2 FWMGM, 2 VPVL, 19 CXFTF => 3 HVMC\n",
    "5 VJHF, 7 MNCFX, 9 VPVL, 37 CXFTF => 6 GNMV\n",
    "145 ORE => 6 MNCFX\n",
    "1 NVRVD => 8 CXFTF\n",
    "1 VJHF, 6 MNCFX => 4 RFSQX\n",
    "176 ORE => 6 VJHF\"\"\"))\n",
    "assert c.make('FUEL', 1) == 180697\n",
    "assert c.max_for_ore('FUEL') == 5586022"
   ]
  },
  {
   "cell_type": "code",
   "execution_count": 109,
   "metadata": {},
   "outputs": [],
   "source": [
    "c = Creator.fromfile(StringIO(\"\"\"171 ORE => 8 CNZTR\n",
    "7 ZLQW, 3 BMBT, 9 XCVML, 26 XMNCP, 1 WPTQ, 2 MZWV, 1 RJRHP => 4 PLWSL\n",
    "114 ORE => 4 BHXH\n",
    "14 VRPVC => 6 BMBT\n",
    "6 BHXH, 18 KTJDG, 12 WPTQ, 7 PLWSL, 31 FHTLT, 37 ZDVW => 1 FUEL\n",
    "6 WPTQ, 2 BMBT, 8 ZLQW, 18 KTJDG, 1 XMNCP, 6 MZWV, 1 RJRHP => 6 FHTLT\n",
    "15 XDBXC, 2 LTCX, 1 VRPVC => 6 ZLQW\n",
    "13 WPTQ, 10 LTCX, 3 RJRHP, 14 XMNCP, 2 MZWV, 1 ZLQW => 1 ZDVW\n",
    "5 BMBT => 4 WPTQ\n",
    "189 ORE => 9 KTJDG\n",
    "1 MZWV, 17 XDBXC, 3 XCVML => 2 XMNCP\n",
    "12 VRPVC, 27 CNZTR => 2 XDBXC\n",
    "15 KTJDG, 12 BHXH => 5 XCVML\n",
    "3 BHXH, 2 VRPVC => 7 MZWV\n",
    "121 ORE => 7 VRPVC\n",
    "7 XCVML => 6 RJRHP\n",
    "5 BHXH, 4 VRPVC => 5 LTCX\"\"\"))\n",
    "assert c.make('FUEL', 1) == 2210736\n",
    "assert c.max_for_ore('FUEL') == 460664"
   ]
  },
  {
   "cell_type": "code",
   "execution_count": 110,
   "metadata": {},
   "outputs": [
    {
     "name": "stdout",
     "output_type": "stream",
     "text": [
      "Part 1: 720484\n"
     ]
    }
   ],
   "source": [
    "with open('input14.txt', 'rt') as infile:\n",
    "    c = Creator.fromfile(infile)\n",
    "    print('Part 1:', c.make('FUEL', 1))"
   ]
  },
  {
   "cell_type": "code",
   "execution_count": 111,
   "metadata": {},
   "outputs": [
    {
     "name": "stdout",
     "output_type": "stream",
     "text": [
      "Part 2: 1993284\n"
     ]
    }
   ],
   "source": [
    "print('Part 2:', c.max_for_ore('FUEL'))"
   ]
  },
  {
   "cell_type": "markdown",
   "metadata": {},
   "source": [
    "## Day 15: Oxygen System"
   ]
  },
  {
   "cell_type": "code",
   "execution_count": 112,
   "metadata": {},
   "outputs": [],
   "source": [
    "c = Computer.fromfile('input15.txt')\n",
    "\n",
    "NORTH = 1\n",
    "SOUTH = 2\n",
    "WEST = 3\n",
    "EAST = 4\n",
    "direc_order = [NORTH, EAST, SOUTH, WEST]\n",
    "direc_step = {NORTH:Point(0, 1), EAST:Point(1, 0), SOUTH:Point(0, -1), WEST:Point(-1, 0)}\n",
    "\n",
    "BLOCKED = 0\n",
    "OK = 1\n",
    "END = 2\n",
    "\n",
    "move = NORTH\n",
    "loc = start = Point(22, 20)\n",
    "direc = 0\n",
    "layout = np.full((43, 43), 3, dtype=np.int8)\n",
    "layout[tuple(start)] = 2\n",
    "move_count = 0\n",
    "while c.running:\n",
    "    c.run([move])\n",
    "    status = c.output.pop()\n",
    "    \n",
    "    step = direc_step[move]\n",
    "    next_loc = loc + step\n",
    "    if next_loc == start:\n",
    "        break\n",
    "    layout[tuple(next_loc)] = status\n",
    "\n",
    "    if status == BLOCKED:\n",
    "        # Turn left\n",
    "        direc = (direc - 1) % 4\n",
    "        move = direc_order[direc]\n",
    "    elif status in (OK, END):\n",
    "        # Turn right--essentially constantly tests wall on right\n",
    "        move_count += 1\n",
    "        loc = next_loc\n",
    "        direc = (direc + 1) % 4\n",
    "        move = direc_order[direc]\n",
    "        if status == END:\n",
    "            goal = next_loc"
   ]
  },
  {
   "cell_type": "code",
   "execution_count": 113,
   "metadata": {},
   "outputs": [
    {
     "data": {
      "text/plain": [
       "<matplotlib.image.AxesImage at 0x122a91130>"
      ]
     },
     "execution_count": 113,
     "metadata": {},
     "output_type": "execute_result"
    },
    {
     "data": {
      "image/png": "[encoded data removed]",
      "text/plain": [
       "<Figure size 720x720 with 1 Axes>"
      ]
     },
     "metadata": {
      "needs_background": "light"
     },
     "output_type": "display_data"
    }
   ],
   "source": [
    "fig, ax = plt.subplots(figsize=(10, 10))\n",
    "ax.imshow(layout.T, origin='lower')"
   ]
  },
  {
   "cell_type": "code",
   "execution_count": 114,
   "metadata": {},
   "outputs": [],
   "source": [
    "import heapq\n",
    "\n",
    "class Node:\n",
    "    def __init__(self, cost, estimate, loc, parent):\n",
    "        self.cost = cost\n",
    "        self.estimate = estimate\n",
    "        self.loc = loc\n",
    "        self.parent = parent\n",
    "\n",
    "    @property\n",
    "    def total_cost(self):\n",
    "        return self.cost + self.estimate\n",
    "\n",
    "    def __lt__(self, other):\n",
    "        return self.total_cost < other.total_cost\n",
    "\n",
    "def astar(start, goal, board):\n",
    "    fringe = [Node(0, start.manhattan_distance(goal), start, None)]\n",
    "    done = set()\n",
    "    while fringe:\n",
    "        best = heapq.heappop(fringe)\n",
    "        if best.loc == goal:\n",
    "            break\n",
    "        done.add(best.loc)\n",
    "        for candidate in best.loc.neighbors:\n",
    "            if board[tuple(candidate)] and candidate not in done:\n",
    "                heapq.heappush(fringe, Node(best.cost + 1, candidate.manhattan_distance(goal), candidate, best))\n",
    "    else:\n",
    "        raise RuntimeError('Failed to find end!')\n",
    "\n",
    "    return best"
   ]
  },
  {
   "cell_type": "code",
   "execution_count": 115,
   "metadata": {},
   "outputs": [
    {
     "name": "stdout",
     "output_type": "stream",
     "text": [
      "Part 1: 216\n"
     ]
    }
   ],
   "source": [
    "path = astar(start, goal, layout)\n",
    "print('Part 1:', path.cost)"
   ]
  },
  {
   "cell_type": "code",
   "execution_count": 116,
   "metadata": {},
   "outputs": [],
   "source": [
    "def fill(start, layout):\n",
    "    time = -1\n",
    "    filled = set()\n",
    "    to_fill = {start}\n",
    "    while to_fill:\n",
    "        time += 1\n",
    "        next_round = set()\n",
    "        for item in to_fill:\n",
    "            for candidate in item.neighbors:\n",
    "                if layout[tuple(candidate)] and candidate not in filled:\n",
    "                    next_round.add(candidate)\n",
    "        filled |= to_fill\n",
    "        to_fill = next_round\n",
    "    return time"
   ]
  },
  {
   "cell_type": "code",
   "execution_count": 117,
   "metadata": {},
   "outputs": [],
   "source": [
    "test = np.array([[3, 0, 0, 3, 3, 3],\n",
    "                 [0, 1, 1, 0, 0, 3],\n",
    "                 [0, 1, 0, 1, 1, 0],\n",
    "                 [0, 1, 2, 1, 0, 3],\n",
    "                 [3, 0, 0, 0, 3, 3]])\n",
    "src = Point(2, 3)\n",
    "\n",
    "assert fill(src, test.T) == 4"
   ]
  },
  {
   "cell_type": "code",
   "execution_count": 118,
   "metadata": {},
   "outputs": [
    {
     "name": "stdout",
     "output_type": "stream",
     "text": [
      "Part 2: 326\n"
     ]
    }
   ],
   "source": [
    "print('Part 2:', fill(goal, layout))"
   ]
  },
  {
   "cell_type": "markdown",
   "metadata": {},
   "source": [
    "## Day 16: Flawed Frequency Transmission"
   ]
  },
  {
   "cell_type": "code",
   "execution_count": 119,
   "metadata": {},
   "outputs": [],
   "source": [
    "import itertools\n",
    "\n",
    "def offset_fft(digits):\n",
    "    out = [digits[-1]]\n",
    "    for i in range(2, len(digits) + 1):\n",
    "        out.append(out[-1] + digits[-i])\n",
    "    return [abs(i) % 10 for i in reversed(out)]\n",
    "\n",
    "def phases_off(digits, n, off):\n",
    "    digits = digits[off:]\n",
    "    for _ in range(n):\n",
    "        digits = offset_fft(digits)\n",
    "    return digits\n",
    "\n",
    "def fft(digits):\n",
    "    out = []\n",
    "    half = len(digits) // 2\n",
    "    for i in range(1, half + 1):\n",
    "        repeat = itertools.cycle(itertools.chain(itertools.repeat(0, i),\n",
    "                                                 itertools.repeat(1, i), \n",
    "                                                 itertools.repeat(0, i),\n",
    "                                                 itertools.repeat(-1, i)))\n",
    "        next(repeat)\n",
    "        out.append(abs(sum(i * d for i, d in zip(repeat, digits))) % 10)\n",
    "    out.extend(offset_fft(digits[half:]))\n",
    "    return out\n",
    "\n",
    "def phases(digits, n):\n",
    "    for _ in range(n):\n",
    "        digits = fft(digits)\n",
    "    return digits\n",
    "\n",
    "def decode(digits):\n",
    "    offset = int(''.join(str(i) for i in digits[:7]))\n",
    "    return phases_off(digits * 10000, 100, offset)[:8]"
   ]
  },
  {
   "cell_type": "code",
   "execution_count": 120,
   "metadata": {},
   "outputs": [],
   "source": [
    "assert phases([1,2,3,4,5,6,7,8], 1) == [4,8,2,2,6,1,5,8]\n",
    "assert phases([1,2,3,4,5,6,7,8], 2) == [3,4,0,4,0,4,3,8]\n",
    "assert phases([1,2,3,4,5,6,7,8], 3) == [0,3,4,1,5,5,1,8]\n",
    "assert phases([1,2,3,4,5,6,7,8], 4) == [0,1,0,2,9,4,9,8]"
   ]
  },
  {
   "cell_type": "code",
   "execution_count": 121,
   "metadata": {},
   "outputs": [],
   "source": [
    "assert phases([8,0,8,7,1,2,2,4,5,8,5,9,1,4,5,4,6,6,1,9,0,8,3,2,1,8,6,4,5,5,9,5], 100)[:8] == [2,4,1,7,6,1,7,6]"
   ]
  },
  {
   "cell_type": "code",
   "execution_count": 122,
   "metadata": {},
   "outputs": [],
   "source": [
    "assert phases([1,9,6,1,7,8,0,4,2,0,7,2,0,2,2,0,9,1,4,4,9,1,6,0,4,4,1,8,9,9,1,7], 100)[:8] == [7,3,7,4,5,4,1,8]"
   ]
  },
  {
   "cell_type": "code",
   "execution_count": 123,
   "metadata": {},
   "outputs": [],
   "source": [
    "with open('input16.txt', 'rt') as infile:\n",
    "    val = [int(i) for i in infile.read().strip()]"
   ]
  },
  {
   "cell_type": "code",
   "execution_count": 124,
   "metadata": {},
   "outputs": [
    {
     "name": "stdout",
     "output_type": "stream",
     "text": [
      "Part 1: 78009100\n"
     ]
    }
   ],
   "source": [
    "print('Part 1:', ''.join(str(i) for i in phases(val, 100)[:8]))"
   ]
  },
  {
   "cell_type": "code",
   "execution_count": 125,
   "metadata": {},
   "outputs": [],
   "source": [
    "assert decode([0,3,0,3,6,7,3,2,5,7,7,2,1,2,9,4,4,0,6,3,4,9,1,5,6,5,4,7,4,6,6,4]) == [8,4,4,6,2,0,2,6]"
   ]
  },
  {
   "cell_type": "code",
   "execution_count": 126,
   "metadata": {},
   "outputs": [],
   "source": [
    "assert decode([0,2,9,3,5,1,0,9,6,9,9,9,4,0,8,0,7,4,0,7,5,8,5,4,4,7,0,3,4,3,2,3]) == [7,8,7,2,5,2,7,0]"
   ]
  },
  {
   "cell_type": "code",
   "execution_count": 127,
   "metadata": {},
   "outputs": [],
   "source": [
    "assert decode([0,3,0,8,1,7,7,0,8,8,4,9,2,1,9,5,9,7,3,1,1,6,5,4,4,6,8,5,0,5,1,7]) == [5,3,5,5,3,7,3,1]"
   ]
  },
  {
   "cell_type": "code",
   "execution_count": 128,
   "metadata": {},
   "outputs": [
    {
     "name": "stdout",
     "output_type": "stream",
     "text": [
      "Part 2: 37717791\n"
     ]
    }
   ],
   "source": [
    "print('Part 2:', ''.join(str(i) for i in decode(val)))"
   ]
  },
  {
   "cell_type": "markdown",
   "metadata": {},
   "source": [
    "## Day 17: Set and Forget"
   ]
  },
  {
   "cell_type": "code",
   "execution_count": 129,
   "metadata": {},
   "outputs": [],
   "source": [
    "def parse_output(out):\n",
    "    layout = [[]]\n",
    "    for i in out:\n",
    "        char = chr(i)\n",
    "        if char == '\\n':\n",
    "            layout.append([])\n",
    "        else:\n",
    "            layout[-1].append(char)\n",
    "            if char in '<^>V':\n",
    "                robot = (len(layout[-1]) - 1, len(layout) - 1, char)\n",
    "    while not layout[-1]:\n",
    "        layout.pop()\n",
    "    return layout, robot\n",
    "\n",
    "def print_board(board):\n",
    "    print('\\n'.join([''.join(c for c in row) for row in board]))"
   ]
  },
  {
   "cell_type": "code",
   "execution_count": 130,
   "metadata": {},
   "outputs": [
    {
     "name": "stdout",
     "output_type": "stream",
     "text": [
      "..............###########......................\n",
      "..............#.........#......................\n",
      "..............#.........#.........#######......\n",
      "..............#.........#.........#.....#......\n",
      "..............#.........#.........#.....#......\n",
      "..............#.........#.........#.....#......\n",
      "..............#.........#.........#.....#......\n",
      "..............#.........#.........#.....#......\n",
      "..............#.........###########.....#......\n",
      "..............#.........................#......\n",
      "..............###########...............#######\n",
      "........................#.....................#\n",
      "....................#######...................#\n",
      "....................#...#.#...................#\n",
      "....................#...#.#...................#\n",
      "....................#...#.#...................#\n",
      "....................#...#.#...........#########\n",
      "....................#...#.#...........#........\n",
      "..................^##########.........#........\n",
      "....................#...#.#.#.........#........\n",
      "....................#...#######.......#........\n",
      "....................#.....#.#.#.......#........\n",
      "..........###########.....###########.#........\n",
      "..........#.................#.#.....#.#........\n",
      "..........#.................#.#.....#.#........\n",
      "..........#.................#.#.....#.#........\n",
      "..........#.................###########........\n",
      "..........#...................#.....#..........\n",
      "..#########...................#######..........\n",
      "..#............................................\n",
      "..#............................................\n",
      "..#............................................\n",
      "..#............................................\n",
      "..#............................................\n",
      "..#######......................................\n",
      "........#......................................\n",
      "........#......................................\n",
      "........#......................................\n",
      "........#......................................\n",
      "........#......................................\n",
      "........#......................................\n",
      "........#......................................\n",
      "........#......................................\n",
      "........#......................................\n",
      "#########......................................\n",
      "#..............................................\n",
      "#..............................................\n",
      "#..............................................\n",
      "#..............................................\n",
      "#..............................................\n",
      "#..............................................\n",
      "#..............................................\n",
      "#..............................................\n",
      "#..............................................\n",
      "###########....................................\n"
     ]
    }
   ],
   "source": [
    "c = Computer.fromfile('input17.txt')\n",
    "c.run()\n",
    "layout, robot = parse_output(c.output)\n",
    "print_board(layout)"
   ]
  },
  {
   "cell_type": "code",
   "execution_count": 131,
   "metadata": {},
   "outputs": [
    {
     "name": "stdout",
     "output_type": "stream",
     "text": [
      "Part 1: 5620\n"
     ]
    }
   ],
   "source": [
    "v = sum(r * c for r in range(1, len(layout) - 1)\n",
    "              for c in range(1, len(layout[0]) - 1)\n",
    "              if {layout[r][c], layout[r + 1][c], layout[r - 1][c], layout[r][c - 1], layout[r][c + 1]} == {'#'})\n",
    "\n",
    "print('Part 1:', v)"
   ]
  },
  {
   "cell_type": "code",
   "execution_count": 132,
   "metadata": {},
   "outputs": [
    {
     "data": {
      "text/plain": [
       "'R,10,R,8,L,10,L,10,R,8,L,6,L,6,R,8,L,6,L,6,R,10,R,8,L,10,L,10,L,10,R,10,L,6,R,8,L,6,L,6,L,10,R,10,L,6,L,10,R,10,L,6,R,8,L,6,L,6,R,10,R,8,L,10,L,10'"
      ]
     },
     "execution_count": 132,
     "metadata": {},
     "output_type": "execute_result"
    }
   ],
   "source": [
    "def valid_index(layout, point):\n",
    "    return point.y >= 0 and point.y < len(layout) and point.x >=0 and point.x < len(layout[0]) \n",
    "\n",
    "direcs = {'>':Vector(1, 0, 0), '<':Vector(-1, 0, 0), '^':Vector(0, -1, 0), 'V':Vector(0, 1, 0)}\n",
    "scaffold = '#'\n",
    "\n",
    "cur_loc = Point(*robot[:2])\n",
    "cur_dir = direcs[robot[-1]]\n",
    "cur_run = 0\n",
    "moves = []\n",
    "while True:\n",
    "    #print(cur_loc, cur_dir)\n",
    "    next_loc = cur_loc + cur_dir\n",
    "    if valid_index(layout, next_loc) and layout[next_loc.y][next_loc.x] == scaffold:\n",
    "        cur_loc = next_loc\n",
    "        cur_run += 1\n",
    "    else:\n",
    "        if cur_run:\n",
    "            moves.append(cur_run)\n",
    "            cur_run = 0\n",
    "\n",
    "        # All of the directions are kinda flipped from expected because we're in a coordinate system\n",
    "        # where +y is down.\n",
    "        if cur_dir.x == 1:\n",
    "            left = cur_loc.down\n",
    "            right = cur_loc.up\n",
    "        elif cur_dir.x == -1:\n",
    "            left = cur_loc.up\n",
    "            right = cur_loc.down\n",
    "        elif cur_dir.y == 1:\n",
    "            left = cur_loc.right\n",
    "            right = cur_loc.left\n",
    "        elif cur_dir.y == -1:\n",
    "            left = cur_loc.left\n",
    "            right = cur_loc.right\n",
    "        \n",
    "        if valid_index(layout, left) and layout[left.y][left.x] == scaffold:\n",
    "            moves.append('L')\n",
    "            cur_dir = cur_dir.cross(Vector.k())\n",
    "        elif valid_index(layout, right) and layout[right.y][right.x] == scaffold:\n",
    "            moves.append('R')\n",
    "            cur_dir = Vector.k().cross(cur_dir)\n",
    "        else:\n",
    "            break\n",
    "\n",
    "move_str = ','.join(str(i) for i in moves)\n",
    "move_str"
   ]
  },
  {
   "cell_type": "code",
   "execution_count": 133,
   "metadata": {},
   "outputs": [],
   "source": [
    "sub_a = 'R,10,R,8,L,10,L,10'\n",
    "sub_b = 'R,8,L,6,L,6'\n",
    "sub_c = 'L,10,R,10,L,6'\n",
    "main = move_str.replace(sub_a, 'A').replace(sub_b, 'B').replace(sub_c, 'C')"
   ]
  },
  {
   "cell_type": "code",
   "execution_count": 134,
   "metadata": {},
   "outputs": [],
   "source": [
    "c = Computer.fromfile('input17.txt')\n",
    "c.memory[0] = 2\n",
    "c.run(main + '\\n' + sub_a + '\\n' + sub_b + '\\n' + sub_c + '\\nn\\n')"
   ]
  },
  {
   "cell_type": "code",
   "execution_count": 135,
   "metadata": {},
   "outputs": [
    {
     "name": "stdout",
     "output_type": "stream",
     "text": [
      "..............###########......................\n",
      "..............#.........#......................\n",
      "..............#.........#.........#######......\n",
      "..............#.........#.........#.....#......\n",
      "..............#.........#.........#.....#......\n",
      "..............#.........#.........#.....#......\n",
      "..............#.........#.........#.....#......\n",
      "..............#.........#.........#.....#......\n",
      "..............#.........###########.....#......\n",
      "..............#.........................#......\n",
      "..............###########...............#######\n",
      "........................#.....................#\n",
      "....................#######...................#\n",
      "....................#...#.#...................#\n",
      "....................#...#.#...................#\n",
      "....................#...#.#...................#\n",
      "....................#...#.#...........#########\n",
      "....................#...#.#...........#........\n",
      "..................^##########.........#........\n",
      "....................#...#.#.#.........#........\n",
      "....................#...#######.......#........\n",
      "....................#.....#.#.#.......#........\n",
      "..........###########.....###########.#........\n",
      "..........#.................#.#.....#.#........\n",
      "..........#.................#.#.....#.#........\n",
      "..........#.................#.#.....#.#........\n",
      "..........#.................###########........\n",
      "..........#...................#.....#..........\n",
      "..#########...................#######..........\n",
      "..#............................................\n",
      "..#............................................\n",
      "..#............................................\n",
      "..#............................................\n",
      "..#............................................\n",
      "..#######......................................\n",
      "........#......................................\n",
      "........#......................................\n",
      "........#......................................\n",
      "........#......................................\n",
      "........#......................................\n",
      "........#......................................\n",
      "........#......................................\n",
      "........#......................................\n",
      "........#......................................\n",
      "#########......................................\n",
      "#..............................................\n",
      "#..............................................\n",
      "#..............................................\n",
      "#..............................................\n",
      "#..............................................\n",
      "#..............................................\n",
      "#..............................................\n",
      "#..............................................\n",
      "#..............................................\n",
      "###########....................................\n",
      "\n",
      "Main:\n",
      "Function A:\n",
      "Function B:\n",
      "Function C:\n",
      "Continuous video feed?\n",
      "\n",
      "..............###########......................\n",
      "..............#.........#......................\n",
      "..............#.........#.........#######......\n",
      "..............#.........#.........#.....#......\n",
      "..............#.........#.........#.....#......\n",
      "..............#.........#.........#.....#......\n",
      "..............#.........#.........#.....#......\n",
      "..............#.........#.........#.....#......\n",
      "..............#.........###########.....#......\n",
      "..............#.........................#......\n",
      "..............###########...............#######\n",
      "........................#.....................#\n",
      "....................#######...................#\n",
      "....................#...#.#...................#\n",
      "....................#...#.#...................#\n",
      "....................#...#.#...................#\n",
      "....................#...#.#...........#########\n",
      "....................#...#.#...........#........\n",
      "..................###########.........#........\n",
      "....................#...#.#.#.........#........\n",
      "....................#...#######.......#........\n",
      "....................#.....#.#.#.......#........\n",
      "..........###########.....###########.#........\n",
      "..........#.................#.#.....#.#........\n",
      "..........#.................#.#.....#.#........\n",
      "..........#.................#.#.....#.#........\n",
      "..........#.................###########........\n",
      "..........#...................#.....#..........\n",
      "..#########...................#######..........\n",
      "..#............................................\n",
      "..#............................................\n",
      "..#............................................\n",
      "..#............................................\n",
      "..#............................................\n",
      "..#######......................................\n",
      "........#......................................\n",
      "........#......................................\n",
      "........#......................................\n",
      "........#......................................\n",
      "........#......................................\n",
      "........#......................................\n",
      "........#......................................\n",
      "........#......................................\n",
      "........#......................................\n",
      "#########......................................\n",
      "#..............................................\n",
      "#..............................................\n",
      "#..............................................\n",
      "#..............................................\n",
      "#..............................................\n",
      "#..............................................\n",
      "#..............................................\n",
      "#..............................................\n",
      "#..............................................\n",
      "##########>....................................\n",
      "\n",
      "\n"
     ]
    }
   ],
   "source": [
    "c.display_ascii()"
   ]
  },
  {
   "cell_type": "code",
   "execution_count": 136,
   "metadata": {},
   "outputs": [
    {
     "name": "stdout",
     "output_type": "stream",
     "text": [
      "Part 2: 768115\n"
     ]
    }
   ],
   "source": [
    "print('Part 2:', c.output[-1])"
   ]
  },
  {
   "cell_type": "markdown",
   "metadata": {},
   "source": [
    "## Day 18: Many-Worlds Interpretation"
   ]
  },
  {
   "cell_type": "code",
   "execution_count": 137,
   "metadata": {},
   "outputs": [],
   "source": [
    "from collections import deque\n",
    "from functools import lru_cache\n",
    "import heapq\n",
    "\n",
    "from geom import Point\n",
    "\n",
    "class Maze:\n",
    "    def __init__(self, layout):\n",
    "        self.layout = layout\n",
    "        self.all_keys = set(c for line in layout for c in line if c.islower())\n",
    "        self.multi = False\n",
    "\n",
    "    def get_location(self, item):\n",
    "        for row, line in enumerate(self.layout):\n",
    "            if (col:=line.find(item)) != -1:\n",
    "                break\n",
    "        else:\n",
    "            raise RuntimeError(f'{item} not found!')\n",
    "        return (col, row) \n",
    "\n",
    "    def set_multi_board(self):\n",
    "        # Update board with new start:\n",
    "        if self.multi:\n",
    "            return\n",
    "        start = Point(*self.get_location('@'))\n",
    "        self.layout[start.y - 1] = self.layout[start.y - 1][:start.x - 1] + '@#@' + self.layout[start.y - 1][start.x + 2:]\n",
    "        self.layout[start.y] = self.layout[start.y][:start.x - 1] + '###' + self.layout[start.y][start.x + 2:]\n",
    "        self.layout[start.y + 1] = self.layout[start.y + 1][:start.x - 1] + '@#@' + self.layout[start.y + 1][start.x + 2:]\n",
    "        self.multi = True\n",
    "\n",
    "    def find_starts(self):\n",
    "        locs = []\n",
    "        for row, line in enumerate(self.layout):\n",
    "            if (col:=line.find('@')) != -1:\n",
    "                locs.append((col, row))\n",
    "            if (col:=line.find('@', col + 1)) != -1:\n",
    "                locs.append((col, row))\n",
    "        return [(col, row) for col, row in locs]\n",
    "\n",
    "    def reachable_keys(self, start, keys):\n",
    "        frontier = deque([(*start, 0)])\n",
    "        seen = set()\n",
    "        d = [(1, 0), (-1, 0), (0, 1), (0, -1)]\n",
    "\n",
    "        while frontier:\n",
    "            x, y, dist = frontier.popleft()\n",
    "\n",
    "            # Found a key\n",
    "            if (key:=self.layout[y][x]).islower() and key not in keys:\n",
    "                yield dist, (x, y), key\n",
    "                continue\n",
    "\n",
    "            for dx, dy in d:\n",
    "                cx = x + dx\n",
    "                cy = y + dy\n",
    "                if (cx, cy) in seen:\n",
    "                    continue\n",
    "                else:\n",
    "                    seen.add((cx, cy))\n",
    "\n",
    "                loc_type = self.layout[cy][cx]\n",
    "\n",
    "                # If it's a space, start, or a door we can pass\n",
    "                if loc_type != '#' and (not loc_type.isupper() or loc_type.lower() in keys):\n",
    "                    frontier.append((cx, cy, dist + 1))\n",
    "\n",
    "    def find_dist(self):\n",
    "        frontier = [(0, self.get_location('@'), frozenset())]\n",
    "        seen = set()\n",
    "\n",
    "        while frontier:\n",
    "            dist, loc, keys = heapq.heappop(frontier)\n",
    "            if keys == self.all_keys:\n",
    "                break\n",
    "            \n",
    "            if (loc, keys) in seen:\n",
    "                continue\n",
    "            else:\n",
    "                seen.add((loc, keys))\n",
    "\n",
    "            for d, loc, key in self.reachable_keys(loc, keys):\n",
    "                heapq.heappush(frontier, (dist + d, loc, keys | {key}))\n",
    "        else:\n",
    "            raise RuntimeError('Failed to find end!')\n",
    "\n",
    "        return dist\n",
    "\n",
    "    def find_dist_mult(self):\n",
    "        starts = self.find_starts()\n",
    "        frontier = [(0, tuple(starts), frozenset())]\n",
    "        seen = [set() for _ in starts]\n",
    "\n",
    "        while frontier:\n",
    "            dist, rpos, keys = heapq.heappop(frontier)\n",
    "            if keys == self.all_keys:\n",
    "                break\n",
    "            \n",
    "            for i, loc in enumerate(rpos):\n",
    "                if (loc, keys) in seen[i]:\n",
    "                    continue\n",
    "                else:\n",
    "                    seen[i].add((loc, keys))\n",
    "                \n",
    "                for d, loc, key in self.reachable_keys(loc, keys):\n",
    "                    new_rpos = rpos[:i] + (loc,) + rpos[i + 1:]\n",
    "                    heapq.heappush(frontier, (dist + d, new_rpos, keys | {key}))\n",
    "        else:\n",
    "            raise RuntimeError('Failed to find end!')\n",
    "\n",
    "        return dist"
   ]
  },
  {
   "cell_type": "code",
   "execution_count": 138,
   "metadata": {},
   "outputs": [],
   "source": [
    "test_layout = ['#########',\n",
    "               '#b.A.@.a#',\n",
    "               '#########']\n",
    "assert Maze(test_layout).find_dist() == 8"
   ]
  },
  {
   "cell_type": "code",
   "execution_count": 139,
   "metadata": {},
   "outputs": [],
   "source": [
    "test_layout = ['########################',\n",
    "               '#f.D.E.e.C.b.A.@.a.B.c.#',\n",
    "               '######################.#',\n",
    "               '#d.....................#',\n",
    "               '########################']\n",
    "assert Maze(test_layout).find_dist() == 86"
   ]
  },
  {
   "cell_type": "code",
   "execution_count": 140,
   "metadata": {},
   "outputs": [],
   "source": [
    "test_layout = ['########################',\n",
    "               '#...............b.C.D.f#',\n",
    "               '#.######################',\n",
    "               '#.....@.a.B.c.d.A.e.F.g#',\n",
    "               '########################']\n",
    "assert Maze(test_layout).find_dist() == 132"
   ]
  },
  {
   "cell_type": "code",
   "execution_count": 141,
   "metadata": {},
   "outputs": [],
   "source": [
    "test_layout = ['#################',\n",
    "               '#i.G..c...e..H.p#',\n",
    "               '########.########',\n",
    "               '#j.A..b...f..D.o#',\n",
    "               '########@########',\n",
    "               '#k.E..a...g..B.n#',\n",
    "               '########.########',\n",
    "               '#l.F..d...h..C.m#',\n",
    "               '#################']\n",
    "assert Maze(test_layout).find_dist() == 136"
   ]
  },
  {
   "cell_type": "code",
   "execution_count": 142,
   "metadata": {},
   "outputs": [],
   "source": [
    "test_layout = ['########################',\n",
    "               '#@..............ac.GI.b#',\n",
    "               '###d#e#f################',\n",
    "               '###A#B#C################',\n",
    "               '###g#h#i################',\n",
    "               '########################']\n",
    "assert Maze(test_layout).find_dist() == 81"
   ]
  },
  {
   "cell_type": "code",
   "execution_count": 143,
   "metadata": {},
   "outputs": [
    {
     "name": "stdout",
     "output_type": "stream",
     "text": [
      "Part 1: 5102\n"
     ]
    }
   ],
   "source": [
    "with open('input18.txt', 'rt') as infile:\n",
    "    layout = infile.read().split('\\n')\n",
    "\n",
    "d = Maze(layout).find_dist()\n",
    "print('Part 1:', d)"
   ]
  },
  {
   "cell_type": "code",
   "execution_count": 144,
   "metadata": {},
   "outputs": [],
   "source": [
    "test_layout = ['#######',\n",
    "               '#a.#Cd#',\n",
    "               '##@#@##',\n",
    "               '#######',\n",
    "               '##@#@##',\n",
    "               '#cB#Ab#',\n",
    "               '#######']\n",
    "assert Maze(test_layout).find_dist_mult() == 8"
   ]
  },
  {
   "cell_type": "code",
   "execution_count": 145,
   "metadata": {},
   "outputs": [],
   "source": [
    "test_layout = ['###############',\n",
    "               '#d.ABC.#.....a#',\n",
    "               '######@#@######',\n",
    "               '###############',\n",
    "               '######@#@######',\n",
    "               '#b.....#.....c#',\n",
    "               '###############']\n",
    "assert Maze(test_layout).find_dist_mult() == 24"
   ]
  },
  {
   "cell_type": "code",
   "execution_count": 146,
   "metadata": {},
   "outputs": [],
   "source": [
    "test_layout = ['#############',\n",
    "               '#DcBa.#.GhKl#',\n",
    "               '#.###@#@#I###',\n",
    "               '#e#d#####j#k#',\n",
    "               '###C#@#@###J#',\n",
    "               '#fEbA.#.FgHi#',\n",
    "               '#############']\n",
    "assert Maze(test_layout).find_dist_mult() == 32"
   ]
  },
  {
   "cell_type": "code",
   "execution_count": 147,
   "metadata": {},
   "outputs": [
    {
     "name": "stdout",
     "output_type": "stream",
     "text": [
      "Part 2: 2282\n"
     ]
    }
   ],
   "source": [
    "with open('input18.txt', 'rt') as infile:\n",
    "    layout = infile.read().split('\\n')\n",
    "\n",
    "m = Maze(layout)\n",
    "m.set_multi_board()\n",
    "d = m.find_dist_mult()\n",
    "\n",
    "print('Part 2:', d)"
   ]
  },
  {
   "cell_type": "markdown",
   "metadata": {},
   "source": [
    "## Day 19: Tractor Beam"
   ]
  },
  {
   "cell_type": "code",
   "execution_count": 148,
   "metadata": {},
   "outputs": [],
   "source": [
    "from intcode import Computer, readcode"
   ]
  },
  {
   "cell_type": "code",
   "execution_count": 149,
   "metadata": {},
   "outputs": [],
   "source": [
    "class CheckPoint:\n",
    "    def __init__(self):\n",
    "        self.prog = readcode('input19.txt')\n",
    "        self.comp = Computer(self.prog)\n",
    "\n",
    "    def __call__(self, inp):\n",
    "        self.comp.reset(self.prog)\n",
    "        self.comp.run(inp)\n",
    "        return self.comp.output[0]"
   ]
  },
  {
   "cell_type": "code",
   "execution_count": 150,
   "metadata": {},
   "outputs": [
    {
     "name": "stdout",
     "output_type": "stream",
     "text": [
      "Part 1: 150\n"
     ]
    }
   ],
   "source": [
    "total = 0\n",
    "cp = CheckPoint()\n",
    "for x in range(50):\n",
    "    for y in range(50):\n",
    "        total += cp((x, y))\n",
    "\n",
    "print('Part 1:', total)"
   ]
  },
  {
   "cell_type": "code",
   "execution_count": 151,
   "metadata": {},
   "outputs": [
    {
     "name": "stdout",
     "output_type": "stream",
     "text": [
      "<geom.Point object at 0x1202379a0>\n"
     ]
    }
   ],
   "source": [
    "from geom import Point, Vector\n",
    "\n",
    "right = Vector(1, 0, 0)\n",
    "down = Vector(0, 1, 0)\n",
    "\n",
    "loc = Point(0, 0)\n",
    "size = 100\n",
    "right_edge = Vector(size - 1, 0, 0)\n",
    "bottom_edge = Vector(0, size - 1, 0)\n",
    "\n",
    "while not (cp(loc + right_edge) and cp (loc + bottom_edge)):\n",
    "    while not cp(loc + bottom_edge):\n",
    "        loc += right\n",
    "    while not cp(loc + right_edge):\n",
    "        loc += down\n",
    "    \n",
    "print(loc)"
   ]
  },
  {
   "cell_type": "code",
   "execution_count": 152,
   "metadata": {},
   "outputs": [
    {
     "name": "stdout",
     "output_type": "stream",
     "text": [
      "Part 2: 12201460\n"
     ]
    }
   ],
   "source": [
    "print('Part 2:', 10000 * loc.x + loc.y)"
   ]
  },
  {
   "cell_type": "markdown",
   "metadata": {},
   "source": [
    "## Day 20: Donut Maze"
   ]
  },
  {
   "cell_type": "code",
   "execution_count": 153,
   "metadata": {},
   "outputs": [],
   "source": [
    "import string\n",
    "\n",
    "from algs import BreadthFirstSearch\n",
    "from geom import Point\n",
    "\n",
    "class Maze:\n",
    "    PATH = '.'\n",
    "        \n",
    "    def __init__(self, fobj):\n",
    "        self.maze = fobj.read().rstrip().split('\\n')\n",
    "\n",
    "        labels = self._get_labels()\n",
    "        self.start = labels.pop('AA')[0]\n",
    "        self.end = labels.pop('ZZ')[0]\n",
    "        self.portals = {}\n",
    "        for p1, p2 in labels.values():\n",
    "            self.portals[p1] = p2\n",
    "            self.portals[p2] = p1\n",
    "\n",
    "    def _get_labels(self):\n",
    "        labels = {}\n",
    "        for y, line in enumerate(self.maze):\n",
    "            for x, c in enumerate(line):\n",
    "                if c in string.ascii_uppercase:\n",
    "                    if loc := self._find_adjascent(x, y, self.PATH):\n",
    "                        other_char = self.maze[2 * y - loc[1]][2 * x - loc[0]]\n",
    "                        if loc > (x, y):\n",
    "                            label = other_char + c\n",
    "                        else:\n",
    "                            label = c + other_char\n",
    "                        labels.setdefault(label, []).append(loc)\n",
    "        return labels\n",
    "\n",
    "    def _find_adjascent(self, x, y, match):\n",
    "        if y < len(self.maze) - 1 and self.maze[y + 1][x] in match:\n",
    "            return (x, y + 1)\n",
    "        elif y > 0 and self.maze[y - 1][x] in match:\n",
    "            return (x, y - 1)\n",
    "        elif x < len(self.maze[y]) - 1 and self.maze[y][x + 1] in match:\n",
    "            return (x + 1, y)\n",
    "        elif x > 0 and self.maze[y][x - 1] in match:\n",
    "            return (x - 1, y)\n",
    "\n",
    "        return None\n",
    "\n",
    "    def find_path(self):\n",
    "        bfs = BreadthFirstSearch(self.start)\n",
    "        for loc in bfs:\n",
    "            if loc == self.end:\n",
    "                break\n",
    "\n",
    "            if loc in self.portals:\n",
    "                bfs.add(self.portals[loc])\n",
    "\n",
    "            for candidate in Point(*loc).neighbors:\n",
    "                if self.maze[candidate.y][candidate.x] == self.PATH:\n",
    "                    bfs.add(tuple(candidate))\n",
    "        else:\n",
    "            raise RuntimeError('Failed to find end!')\n",
    "\n",
    "        return bfs.order()"
   ]
  },
  {
   "cell_type": "code",
   "execution_count": 154,
   "metadata": {},
   "outputs": [],
   "source": [
    "with open('input20.txt', 'rt') as infile:\n",
    "    m = Maze(infile)"
   ]
  },
  {
   "cell_type": "code",
   "execution_count": 155,
   "metadata": {},
   "outputs": [
    {
     "name": "stdout",
     "output_type": "stream",
     "text": [
      "Part 1: 696\n"
     ]
    }
   ],
   "source": [
    "p = m.find_path()\n",
    "print('Part 1:', len(p) - 1)"
   ]
  },
  {
   "cell_type": "code",
   "execution_count": 156,
   "metadata": {},
   "outputs": [],
   "source": [
    "class DonutMaze(Maze):\n",
    "    PATH = '.'\n",
    "        \n",
    "    def __init__(self, fobj):\n",
    "        self.maze = fobj.read().rstrip().split('\\n')\n",
    "        labels = self._get_labels()\n",
    "        self.start = labels.pop('AA')[0]\n",
    "        self.end = labels.pop('ZZ')[0]\n",
    "\n",
    "        self.inner = {}\n",
    "        self.outer = {}\n",
    "        for p1, p2 in labels.values():\n",
    "            if p1[0] == 2 or p1[0] == len(self.maze[0]) - 3 or p1[1] == 2 or p1[1] == len(self.maze) - 3:\n",
    "                self.outer[p1] = p2\n",
    "                self.inner[p2] = p1\n",
    "            else:\n",
    "                self.inner[p1] = p2\n",
    "                self.outer[p2] = p1\n",
    "\n",
    "    def find_path(self):\n",
    "        bfs = BreadthFirstSearch((self.start, 0))\n",
    "        for loc, depth in bfs:\n",
    "            if loc == self.end and depth == 0:\n",
    "                break\n",
    "\n",
    "            if loc in self.outer and depth > 0:\n",
    "                bfs.add((self.outer[loc], depth - 1))\n",
    "            elif loc in self.inner:\n",
    "                bfs.add((self.inner[loc], depth + 1))\n",
    "\n",
    "            for candidate in Point(*loc).neighbors:\n",
    "                if self.maze[candidate.y][candidate.x] == self.PATH:\n",
    "                    bfs.add((tuple(candidate), depth))\n",
    "        else:\n",
    "            raise RuntimeError('Failed to find end!')\n",
    "\n",
    "        return bfs.order()"
   ]
  },
  {
   "cell_type": "code",
   "execution_count": 157,
   "metadata": {},
   "outputs": [],
   "source": [
    "with open('input20.txt', 'rt') as infile:\n",
    "    dm = DonutMaze(infile)"
   ]
  },
  {
   "cell_type": "code",
   "execution_count": 158,
   "metadata": {},
   "outputs": [
    {
     "name": "stdout",
     "output_type": "stream",
     "text": [
      "Part 2: 7538\n"
     ]
    }
   ],
   "source": [
    "p = dm.find_path()\n",
    "print('Part 2:', len(p) - 1)"
   ]
  },
  {
   "cell_type": "markdown",
   "metadata": {},
   "source": [
    "## Day 21: Springdroid Adventure"
   ]
  },
  {
   "cell_type": "code",
   "execution_count": 159,
   "metadata": {},
   "outputs": [],
   "source": [
    "from intcode import Computer"
   ]
  },
  {
   "cell_type": "code",
   "execution_count": 160,
   "metadata": {},
   "outputs": [],
   "source": [
    "script = \"\"\"NOT A J\n",
    "NOT B T\n",
    "OR T J\n",
    "NOT C T\n",
    "OR T J\n",
    "AND D J\n",
    "WALK\"\"\""
   ]
  },
  {
   "cell_type": "code",
   "execution_count": 161,
   "metadata": {},
   "outputs": [
    {
     "name": "stdout",
     "output_type": "stream",
     "text": [
      "Input instructions:\n",
      "\n",
      "Walking...\n",
      "\n",
      "\n"
     ]
    }
   ],
   "source": [
    "c = Computer.fromfile('input21.txt')\n",
    "c.run(script + '\\n')\n",
    "c.display_ascii()"
   ]
  },
  {
   "cell_type": "code",
   "execution_count": 162,
   "metadata": {},
   "outputs": [
    {
     "name": "stdout",
     "output_type": "stream",
     "text": [
      "Part 1: 19352864\n"
     ]
    }
   ],
   "source": [
    "print('Part 1:', c.output[-1])"
   ]
  },
  {
   "cell_type": "code",
   "execution_count": 163,
   "metadata": {},
   "outputs": [],
   "source": [
    "script = \"\"\"NOT J J\n",
    "AND C J\n",
    "AND B J\n",
    "AND A J\n",
    "NOT J J\n",
    "OR H T\n",
    "OR E T\n",
    "AND D T\n",
    "AND T J\n",
    "RUN\"\"\""
   ]
  },
  {
   "cell_type": "code",
   "execution_count": 164,
   "metadata": {},
   "outputs": [
    {
     "name": "stdout",
     "output_type": "stream",
     "text": [
      "Input instructions:\n",
      "\n",
      "Running...\n",
      "\n",
      "\n"
     ]
    }
   ],
   "source": [
    "c = Computer.fromfile('input21.txt')\n",
    "c.run(script + '\\n')\n",
    "c.display_ascii()"
   ]
  },
  {
   "cell_type": "code",
   "execution_count": 165,
   "metadata": {},
   "outputs": [
    {
     "name": "stdout",
     "output_type": "stream",
     "text": [
      "Part 2: 1142488337\n"
     ]
    }
   ],
   "source": [
    "print('Part 2:', c.output[-1])"
   ]
  },
  {
   "cell_type": "markdown",
   "metadata": {},
   "source": [
    "## Day 22: Slam Shuffle"
   ]
  },
  {
   "cell_type": "code",
   "execution_count": 166,
   "metadata": {},
   "outputs": [],
   "source": [
    "def shuffle(cards, cmds):\n",
    "    cards = list(cards)\n",
    "    for cmd in cmds:\n",
    "        if cmd.startswith('cut'):\n",
    "            _, n = cmd.split()\n",
    "            n = int(n)\n",
    "            cards = cards[n:] + cards[:n]\n",
    "        elif cmd.strip() == 'deal into new stack':\n",
    "            cards = cards[::-1]\n",
    "        elif cmd.startswith('deal with increment'):\n",
    "            *_, n = cmd.split()\n",
    "            n = int(n)\n",
    "            newcards = [-1] * len(cards)\n",
    "            for i, c in enumerate(cards):\n",
    "                newcards[(i * n) % len(cards)] = c\n",
    "            cards = newcards\n",
    "    return cards"
   ]
  },
  {
   "cell_type": "code",
   "execution_count": 167,
   "metadata": {},
   "outputs": [],
   "source": [
    "assert shuffle(range(10), ['deal into new stack']) == [9, 8, 7, 6, 5, 4, 3, 2, 1, 0]"
   ]
  },
  {
   "cell_type": "code",
   "execution_count": 168,
   "metadata": {},
   "outputs": [],
   "source": [
    "assert shuffle(range(10), ['cut 3']) == [3, 4, 5, 6, 7, 8, 9, 0, 1, 2]"
   ]
  },
  {
   "cell_type": "code",
   "execution_count": 169,
   "metadata": {},
   "outputs": [],
   "source": [
    "assert shuffle(range(10), ['cut -4']) == [6, 7, 8, 9, 0, 1, 2, 3, 4, 5]"
   ]
  },
  {
   "cell_type": "code",
   "execution_count": 170,
   "metadata": {},
   "outputs": [],
   "source": [
    "assert shuffle(range(10), ['deal with increment 3']) == [0, 7, 4, 1, 8, 5, 2, 9, 6, 3]"
   ]
  },
  {
   "cell_type": "code",
   "execution_count": 171,
   "metadata": {},
   "outputs": [],
   "source": [
    "assert shuffle(range(10), ['deal with increment 7',\n",
    "                           'deal into new stack',\n",
    "                           'deal into new stack']) == [\n",
    "    0, 3, 6, 9, 2, 5, 8, 1, 4, 7]"
   ]
  },
  {
   "cell_type": "code",
   "execution_count": 172,
   "metadata": {},
   "outputs": [],
   "source": [
    "assert shuffle(range(10), ['cut 6', 'deal with increment 7',\n",
    "                           'deal into new stack']) == [\n",
    "    3, 0, 7, 4, 1, 8, 5, 2, 9, 6]"
   ]
  },
  {
   "cell_type": "code",
   "execution_count": 173,
   "metadata": {},
   "outputs": [],
   "source": [
    "assert shuffle(range(10), ['deal with increment 7',\n",
    "                           'deal with increment 9',\n",
    "                           'cut -2',]) == [\n",
    "    6, 3, 0, 7, 4, 1, 8, 5, 2, 9]"
   ]
  },
  {
   "cell_type": "code",
   "execution_count": 174,
   "metadata": {},
   "outputs": [],
   "source": [
    "assert shuffle(range(10), ['deal into new stack',\n",
    "                           'cut -2',\n",
    "                           'deal with increment 7',\n",
    "                           'cut 8',\n",
    "                           'cut -4',\n",
    "                           'deal with increment 7',\n",
    "                           'cut 3',\n",
    "                           'deal with increment 9',\n",
    "                           'deal with increment 3',\n",
    "                           'cut -1']) == [\n",
    "    9, 2, 5, 8, 1, 4, 7, 0, 3, 6]"
   ]
  },
  {
   "cell_type": "code",
   "execution_count": 175,
   "metadata": {},
   "outputs": [
    {
     "name": "stdout",
     "output_type": "stream",
     "text": [
      "Part 1: 5540\n"
     ]
    }
   ],
   "source": [
    "with open('input22.txt', 'rt') as infile:\n",
    "    cards = shuffle(range(10007), list(infile))            \n",
    "print('Part 1:', cards.index(2019))"
   ]
  },
  {
   "cell_type": "code",
   "execution_count": 176,
   "metadata": {},
   "outputs": [],
   "source": [
    "def inv_shuffle_funcs(l, cmds):\n",
    "    for cmd in reversed(cmds):\n",
    "        if cmd.startswith('cut'):\n",
    "            n = int(cmd.split()[-1])\n",
    "            yield lambda p, n=n, l=l: (p + n) % l\n",
    "        elif cmd.strip() == 'deal into new stack':\n",
    "            yield lambda p, l=l: (l - p - 1) % l\n",
    "        elif cmd.startswith('deal with increment'):\n",
    "            n = int(cmd.split()[-1])\n",
    "#             yield lambda p, n=n, l=l: (p * pow(n, l - 2, l)) % l\n",
    "            def lam(p, n=n, l=l):\n",
    "                for m in range(l):\n",
    "                    if not (p + m * l) % n:\n",
    "                        return (p + m * l) // n\n",
    "            yield lam"
   ]
  },
  {
   "cell_type": "code",
   "execution_count": 177,
   "metadata": {},
   "outputs": [],
   "source": [
    "def inv_shuffle(pos, funcs):\n",
    "    for f in funcs:\n",
    "#         print(pos, end=' -> ')\n",
    "        pos = f(pos)\n",
    "#         print(pos)\n",
    "    return pos"
   ]
  },
  {
   "cell_type": "code",
   "execution_count": 178,
   "metadata": {},
   "outputs": [],
   "source": [
    "f = list(inv_shuffle_funcs(10, ['deal into new stack']))\n",
    "assert inv_shuffle(0, f) == 9\n",
    "assert inv_shuffle(2, f) == 7\n",
    "assert inv_shuffle(7, f) == 2\n",
    "assert inv_shuffle(9, f) == 0"
   ]
  },
  {
   "cell_type": "code",
   "execution_count": 179,
   "metadata": {},
   "outputs": [],
   "source": [
    "f = list(inv_shuffle_funcs(10, ['cut 3']))\n",
    "assert inv_shuffle(9, f) == 2\n",
    "assert inv_shuffle(0, f) == 3"
   ]
  },
  {
   "cell_type": "code",
   "execution_count": 180,
   "metadata": {},
   "outputs": [],
   "source": [
    "f = list(inv_shuffle_funcs(10, ['cut -4']))\n",
    "assert inv_shuffle(0, f) == 6\n",
    "assert inv_shuffle(4, f) == 0\n",
    "assert inv_shuffle(9, f) == 5"
   ]
  },
  {
   "cell_type": "code",
   "execution_count": 181,
   "metadata": {},
   "outputs": [],
   "source": [
    "f = list(inv_shuffle_funcs(10, ['deal with increment 3']))\n",
    "assert inv_shuffle(0, f) == 0\n",
    "assert inv_shuffle(4, f) == 8\n",
    "assert inv_shuffle(2, f) == 4"
   ]
  },
  {
   "cell_type": "code",
   "execution_count": 182,
   "metadata": {},
   "outputs": [],
   "source": [
    "f = list(inv_shuffle_funcs(10, ['deal with increment 9']))\n",
    "assert inv_shuffle(0, f) == 0\n",
    "assert inv_shuffle(9, f) == 1"
   ]
  },
  {
   "cell_type": "code",
   "execution_count": 183,
   "metadata": {},
   "outputs": [],
   "source": [
    "f = list(inv_shuffle_funcs(10, ['deal into new stack',\n",
    "                           'cut -2',\n",
    "                           'deal with increment 7',\n",
    "                           'cut 8',\n",
    "                           'cut -4',\n",
    "                           'deal with increment 7',\n",
    "                           'cut 3',\n",
    "                           'deal with increment 9',\n",
    "                           'deal with increment 3',\n",
    "                           'cut -1']))\n",
    "assert inv_shuffle(7, f) == 0\n",
    "assert inv_shuffle(9, f) == 6\n",
    "assert inv_shuffle(3, f) == 8"
   ]
  },
  {
   "cell_type": "code",
   "execution_count": 184,
   "metadata": {},
   "outputs": [],
   "source": [
    "l = 119315717514047\n",
    "with open('input22.txt', 'rt') as infile:\n",
    "    funcs = list(inv_shuffle_funcs(l, list(infile)))"
   ]
  },
  {
   "cell_type": "code",
   "execution_count": 185,
   "metadata": {},
   "outputs": [],
   "source": [
    "x = 2020\n",
    "y = inv_shuffle(x, funcs)\n",
    "z = inv_shuffle(y, funcs)"
   ]
  },
  {
   "cell_type": "code",
   "execution_count": 186,
   "metadata": {},
   "outputs": [],
   "source": [
    "a = ((y - z) * pow(x - y, l - 2, l)) % l\n",
    "b = y - a * x"
   ]
  },
  {
   "cell_type": "code",
   "execution_count": 187,
   "metadata": {},
   "outputs": [],
   "source": [
    "n = 101741582076661"
   ]
  },
  {
   "cell_type": "code",
   "execution_count": 188,
   "metadata": {},
   "outputs": [
    {
     "name": "stdout",
     "output_type": "stream",
     "text": [
      "Part 2: 6821410630991\n"
     ]
    }
   ],
   "source": [
    "v = (pow(a, n, l) * x + (pow(a, n, l) - 1) * pow(a - 1, l - 2, l) * b) % l\n",
    "print('Part 2:', v)"
   ]
  },
  {
   "cell_type": "markdown",
   "metadata": {},
   "source": [
    "## Day 23: Category Six"
   ]
  },
  {
   "cell_type": "code",
   "execution_count": 189,
   "metadata": {},
   "outputs": [
    {
     "name": "stdout",
     "output_type": "stream",
     "text": [
      "Part 1: 14834\n",
      "Part 2: 10215\n"
     ]
    }
   ],
   "source": [
    "network = {i:Computer.fromfile('input23.txt') for i in range(50)}\n",
    "for i, c in network.items():\n",
    "    c.send_input([i])\n",
    "\n",
    "NAT = 255\n",
    "need_first = True\n",
    "\n",
    "comps = itertools.cycle(network)\n",
    "while True:\n",
    "    addr = next(comps)\n",
    "    comp = network[addr]\n",
    "    comp.run([-1])\n",
    "\n",
    "    while comp.output:\n",
    "        addr = comp.output.pop(0)\n",
    "        x = comp.output.pop(0)\n",
    "        y = comp.output.pop(0)\n",
    "        if addr == NAT:\n",
    "            nat = x, y\n",
    "        else:\n",
    "            network[addr].send_input((x, y))\n",
    "\n",
    "    if not any(c.input_data for c in network.values()):\n",
    "        if need_first:\n",
    "            print('Part 1:', nat[-1])\n",
    "            need_first = False\n",
    "        elif nat[-1] == last[-1]:\n",
    "            break\n",
    "\n",
    "        network[0].send_input(nat)\n",
    "        last = nat\n",
    "\n",
    "print('Part 2:', nat[-1])"
   ]
  },
  {
   "cell_type": "code",
   "execution_count": 190,
   "metadata": {},
   "outputs": [
    {
     "name": "stdout",
     "output_type": "stream",
     "text": [
      "Part 1: 14834\n",
      "Part 2: 10214\n"
     ]
    }
   ],
   "source": [
    "class NAT:\n",
    "    def __init__(self, network):\n",
    "        self.network = network\n",
    "        self.input_data = None\n",
    "        self.need_first = True\n",
    "        self.output = []\n",
    "    \n",
    "    def run(self, _):\n",
    "        if not any(c.input_data for c in self.network.values() if c is not self):\n",
    "            self.output = [0, *self.input_data]\n",
    "\n",
    "            if self.need_first:\n",
    "                print('Part 1:', self.output[-1])\n",
    "                self.need_first = False\n",
    "            elif self.input_data[-1] == self.last[-1]:\n",
    "                print('Part 2:', self.input_data[-1])\n",
    "                return True\n",
    "            self.last = self.input_data\n",
    "    \n",
    "    def send_input(self, v):\n",
    "        self.input_data = v\n",
    "\n",
    "network = {}\n",
    "network[255] = NAT(network)\n",
    "for i in range(50):\n",
    "    c = Computer.fromfile('input23.txt')\n",
    "    network[i] = c\n",
    "    c.send_input([i])\n",
    "\n",
    "comps = itertools.cycle(network.values())\n",
    "while comp:=next(comps):\n",
    "    if comp.run([-1]):\n",
    "        break\n",
    "    while comp.output:\n",
    "        y = comp.output.pop()\n",
    "        x = comp.output.pop()\n",
    "        addr = comp.output.pop()\n",
    "        network[addr].send_input((x, y))"
   ]
  },
  {
   "cell_type": "markdown",
   "metadata": {},
   "source": [
    "## Day 24: Planet of Discord"
   ]
  },
  {
   "cell_type": "code",
   "execution_count": 191,
   "metadata": {},
   "outputs": [
    {
     "name": "stdout",
     "output_type": "stream",
     "text": [
      "Part 1: 18400821\n"
     ]
    }
   ],
   "source": [
    "with open('input24.txt', 'rt') as inp:\n",
    "    board = inp.read().strip().split('\\n')\n",
    "\n",
    "seq = set()\n",
    "while True:\n",
    "    if tuple(board) in seq:\n",
    "        break\n",
    "    seq.add(tuple(board))\n",
    "    next_board = []\n",
    "    for r, line in enumerate(board):\n",
    "        row = []\n",
    "        for c, char in enumerate(line):\n",
    "            count = 0\n",
    "            if r > 0 and board[r - 1][c] == '#':\n",
    "                count += 1\n",
    "            if r < len(board) - 1 and board[r + 1][c] == '#':\n",
    "                count += 1\n",
    "            if c > 0 and board[r][c - 1] == '#':\n",
    "                count += 1\n",
    "            if c < len(board[0]) - 1 and board[r][c + 1] == '#':\n",
    "                count += 1\n",
    "\n",
    "            if char == '#' and count != 1:\n",
    "                char = '.'\n",
    "            elif char == '.' and count in (1, 2):\n",
    "                char = '#'\n",
    "            row.append(char)\n",
    "\n",
    "        next_board.append(''.join(row))\n",
    "    board = next_board\n",
    "\n",
    "print('Part 1:', sum(2**i for i, c in enumerate(''.join(board)) if c == '#'))"
   ]
  },
  {
   "cell_type": "code",
   "execution_count": 192,
   "metadata": {},
   "outputs": [
    {
     "name": "stdout",
     "output_type": "stream",
     "text": [
      "Part 2: 1914\n"
     ]
    }
   ],
   "source": [
    "board = set()\n",
    "with open('input24.txt', 'rt') as inp:\n",
    "    for r, line in enumerate(inp):\n",
    "        for c, char in enumerate(line.strip()):\n",
    "            if char == '#':\n",
    "                board.add((0, r, c))\n",
    "\n",
    "size = len(line.strip())\n",
    "middle = size // 2\n",
    "half_above = middle - 1\n",
    "half_below = middle + 1\n",
    "min_depth = max_depth = 0\n",
    "\n",
    "for minute in range(200):\n",
    "    depths = [k[0] for k in board]\n",
    "    min_depth = min(depths) - 1\n",
    "    max_depth = max(depths) + 1\n",
    "    next_board = set()\n",
    "    for depth in range(min_depth, max_depth + 1):\n",
    "        for r in range(size):\n",
    "            for c in range(size):\n",
    "                # Middle is no longer a space\n",
    "                if r == middle and c == middle:\n",
    "                    continue\n",
    "\n",
    "                neighbors = []\n",
    "                \n",
    "                # Above\n",
    "                if r == 0:\n",
    "                    neighbors.append((depth - 1, half_above, middle))\n",
    "                elif r == half_below and c == middle:\n",
    "                    neighbors.extend((depth + 1, size - 1, i) for i in range(size))\n",
    "                else:\n",
    "                    neighbors.append((depth, r - 1, c))\n",
    "\n",
    "                # Below\n",
    "                if r == size - 1:\n",
    "                    neighbors.append((depth - 1, half_below, middle))\n",
    "                elif r == half_above and c == middle:\n",
    "                    neighbors.extend((depth + 1, 0, i) for i in range(size))\n",
    "                else:\n",
    "                    neighbors.append((depth, r + 1, c))\n",
    "\n",
    "                # Left\n",
    "                if c == 0:\n",
    "                    neighbors.append((depth - 1, middle, half_above))\n",
    "                elif c == half_below and r == middle:\n",
    "                    neighbors.extend((depth + 1, i, size - 1) for i in range(size))\n",
    "                else:\n",
    "                    neighbors.append((depth, r, c - 1))\n",
    "                \n",
    "                # Right\n",
    "                if c == size - 1:\n",
    "                    neighbors.append((depth - 1, middle, half_below))\n",
    "                elif c == half_above and r == middle:\n",
    "                    neighbors.extend((depth + 1, i, 0) for i in range(size))\n",
    "                else:\n",
    "                    neighbors.append((depth, r, c + 1))\n",
    "\n",
    "                is_bug = (depth, r, c) in board\n",
    "                bugs = sum(n in board for n in neighbors)\n",
    "\n",
    "                if (is_bug and bugs == 1) or (not is_bug and bugs in (1, 2)):\n",
    "                    next_board.add((depth, r, c))\n",
    "        \n",
    "    board = next_board\n",
    "\n",
    "print('Part 2:', len(board))"
   ]
  },
  {
   "cell_type": "markdown",
   "metadata": {},
   "source": [
    "## Day 25: Cryostasis"
   ]
  },
  {
   "cell_type": "code",
   "execution_count": 193,
   "metadata": {},
   "outputs": [],
   "source": [
    "def parse_screen(s):\n",
    "    dirs = []\n",
    "    items = []\n",
    "    name = 'Inventory'\n",
    "    for line in s.split('\\n'):\n",
    "        if line.startswith('=='):\n",
    "            name = line.strip('==').strip()\n",
    "        elif line == 'Doors here lead:':\n",
    "            cur_list = dirs\n",
    "            cur_list.clear()\n",
    "        elif line == 'Items here:' or line == 'Items in your inventory:':\n",
    "            cur_list = items\n",
    "            cur_list.clear()\n",
    "        elif line.startswith('-'):\n",
    "            cur_list.append(line[2:])\n",
    "    return name, dirs, items"
   ]
  },
  {
   "cell_type": "code",
   "execution_count": 194,
   "metadata": {},
   "outputs": [],
   "source": [
    "def walk(c):\n",
    "    options = {}\n",
    "    path = ['none']\n",
    "    opposite = {'east': 'west', 'west': 'east', 'north': 'south', 'south': 'north'}\n",
    "    bad_items = {'escape pod', 'molten lava', 'photons', 'giant electromagnet', 'infinite loop'}\n",
    "    move = ''\n",
    "    while True:\n",
    "        c.run(move + '\\n' if move else None)\n",
    "        name, dirs, items = parse_screen(c.ascii_output)\n",
    "        c.clear_output()\n",
    "        if name not in options:\n",
    "            options[name] = sorted(dirs)[::-1]\n",
    "        for item in items:\n",
    "            if item not in bad_items:\n",
    "                c.run(f'take {item}\\n')\n",
    "                if 'Command?' not in c.ascii_output:\n",
    "                    c.display_ascii()\n",
    "                    return\n",
    "        if not any(options.values()) or name == 'Security Checkpoint':\n",
    "            break\n",
    "\n",
    "        cur_opts = options[name]\n",
    "        for i, opt in enumerate(cur_opts):\n",
    "            if opt != opposite.get(path[-1], None):\n",
    "                break\n",
    "        move = cur_opts.pop(i)\n",
    "        if move != opposite.get(path[-1], None):\n",
    "            path.append(move)\n",
    "        else:\n",
    "            path.pop()"
   ]
  },
  {
   "cell_type": "code",
   "execution_count": 195,
   "metadata": {},
   "outputs": [],
   "source": [
    "def action(s):\n",
    "    c.run(s + '\\n')\n",
    "    ret = parse_screen(c.ascii_output)\n",
    "    c.clear_output()\n",
    "    return ret"
   ]
  },
  {
   "cell_type": "code",
   "execution_count": 196,
   "metadata": {},
   "outputs": [],
   "source": [
    "import itertools\n",
    "def solve(c):\n",
    "    _, _, all_items = action('inv')\n",
    "    all_items = set(all_items)\n",
    "    for item in all_items:\n",
    "        action(f'drop {item}')\n",
    "\n",
    "    too_much = []\n",
    "    items = set()\n",
    "    for i in range(1, len(all_items) + 1):\n",
    "        for subset in itertools.combinations(all_items, i):\n",
    "            subset = set(subset)\n",
    "            for item in items - subset:\n",
    "                action(f'drop {item}')\n",
    "            for item in subset - items:\n",
    "                action(f'take {item}')\n",
    "            items = subset\n",
    "\n",
    "            c.run('south\\n')\n",
    "            if 'Security Checkpoint' not in c.ascii_output:\n",
    "                c.display_ascii()\n",
    "                return\n",
    "            elif i == 1 and 'lighter' in c.ascii_output:\n",
    "                too_much.append(*subset)\n",
    "            c.clear_output()\n",
    "\n",
    "        if i == 1:\n",
    "            all_items -= set(too_much)"
   ]
  },
  {
   "cell_type": "code",
   "execution_count": 197,
   "metadata": {},
   "outputs": [
    {
     "name": "stdout",
     "output_type": "stream",
     "text": [
      "\n",
      "\n",
      "\n",
      "== Pressure-Sensitive Floor ==\n",
      "Analyzing...\n",
      "\n",
      "Doors here lead:\n",
      "- north\n",
      "\n",
      "A loud, robotic voice says \"Analysis complete! You may proceed.\" and you enter the cockpit.\n",
      "Santa notices your small droid, looks puzzled for a moment, realizes what has happened, and radios your ship directly.\n",
      "\"Oh, hello! You should be able to get in by typing 4206594 on the keypad at the main airlock.\"\n",
      "\n",
      "CPU times: user 1.96 s, sys: 9.94 ms, total: 1.97 s\n",
      "Wall time: 1.99 s\n"
     ]
    }
   ],
   "source": [
    "from intcode import Computer\n",
    "c = Computer.fromfile('input25.txt')\n",
    "walk(c)\n",
    "solve(c)"
   ]
  },
  {
   "cell_type": "code",
   "execution_count": null,
   "metadata": {},
   "outputs": [],
   "source": []
  }
 ],
 "metadata": {
  "kernelspec": {
   "display_name": "py38",
   "language": "python",
   "name": "conda-env-py38-py"
  },
  "language_info": {
   "codemirror_mode": {
    "name": "ipython",
    "version": 3
   },
   "file_extension": ".py",
   "mimetype": "text/x-python",
   "name": "python",
   "nbconvert_exporter": "python",
   "pygments_lexer": "ipython3",
   "version": "3.8.6"
  }
 },
 "nbformat": 4,
 "nbformat_minor": 4
}
